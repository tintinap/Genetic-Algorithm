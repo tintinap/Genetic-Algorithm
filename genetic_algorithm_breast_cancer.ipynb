{
  "nbformat": 4,
  "nbformat_minor": 0,
  "metadata": {
    "colab": {
      "name": "genetic-algorithm.ipynb",
      "provenance": [],
      "collapsed_sections": [],
      "authorship_tag": "ABX9TyO5wi0fBwGckaaEoPmhUhTc",
      "include_colab_link": true
    },
    "kernelspec": {
      "name": "python3",
      "display_name": "Python 3",
      "language": "python"
    }
  },
  "cells": [
    {
      "cell_type": "markdown",
      "metadata": {
        "id": "view-in-github",
        "colab_type": "text"
      },
      "source": [
        "<a href=\"https://colab.research.google.com/github/tintinap/Genetic-Algorithm/blob/main/genetic_algorithm_breast_cancer.ipynb\" target=\"_parent\"><img src=\"https://colab.research.google.com/assets/colab-badge.svg\" alt=\"Open In Colab\"/></a>"
      ]
    },
    {
      "cell_type": "code",
      "metadata": {
        "id": "cihZWWKShaBV"
      },
      "source": [
        "from itertools import combinations\n",
        "import pandas as pd\n",
        "import numpy as np\n",
        "import random\n",
        "import ast\n",
        "\n",
        "import mysql.connector"
      ],
      "execution_count": 1,
      "outputs": []
    },
    {
      "cell_type": "code",
      "metadata": {
        "colab": {
          "base_uri": "https://localhost:8080/",
          "height": 204
        },
        "id": "kVHVzgfNhpER",
        "outputId": "e5c9e936-c9ee-47cc-dd4f-9ad65c057923"
      },
      "source": [
        "#breast_cancer\n",
        "# url = 'https://github.com/tintinap/Genetic-Algorithm/blob/main/dataset/diabetes.csv?raw=true'\n",
        "df = pd.read_csv('./dataset/breast_cancer.csv')\n",
        "df.head()"
      ],
      "execution_count": 4,
      "outputs": [
        {
          "output_type": "execute_result",
          "data": {
            "text/plain": [
              "         id diagnosis  radius_mean  texture_mean  perimeter_mean  area_mean  \\\n",
              "0    842302         M        17.99         10.38          122.80     1001.0   \n",
              "1    842517         M        20.57         17.77          132.90     1326.0   \n",
              "2  84300903         M        19.69         21.25          130.00     1203.0   \n",
              "3  84348301         M        11.42         20.38           77.58      386.1   \n",
              "4  84358402         M        20.29         14.34          135.10     1297.0   \n",
              "\n",
              "   smoothness_mean  compactness_mean  concavity_mean  concave points_mean  \\\n",
              "0          0.11840           0.27760          0.3001              0.14710   \n",
              "1          0.08474           0.07864          0.0869              0.07017   \n",
              "2          0.10960           0.15990          0.1974              0.12790   \n",
              "3          0.14250           0.28390          0.2414              0.10520   \n",
              "4          0.10030           0.13280          0.1980              0.10430   \n",
              "\n",
              "   ...  texture_worst  perimeter_worst  area_worst  smoothness_worst  \\\n",
              "0  ...          17.33           184.60      2019.0            0.1622   \n",
              "1  ...          23.41           158.80      1956.0            0.1238   \n",
              "2  ...          25.53           152.50      1709.0            0.1444   \n",
              "3  ...          26.50            98.87       567.7            0.2098   \n",
              "4  ...          16.67           152.20      1575.0            0.1374   \n",
              "\n",
              "   compactness_worst  concavity_worst  concave points_worst  symmetry_worst  \\\n",
              "0             0.6656           0.7119                0.2654          0.4601   \n",
              "1             0.1866           0.2416                0.1860          0.2750   \n",
              "2             0.4245           0.4504                0.2430          0.3613   \n",
              "3             0.8663           0.6869                0.2575          0.6638   \n",
              "4             0.2050           0.4000                0.1625          0.2364   \n",
              "\n",
              "   fractal_dimension_worst  Unnamed: 32  \n",
              "0                  0.11890          NaN  \n",
              "1                  0.08902          NaN  \n",
              "2                  0.08758          NaN  \n",
              "3                  0.17300          NaN  \n",
              "4                  0.07678          NaN  \n",
              "\n",
              "[5 rows x 33 columns]"
            ],
            "text/html": "<div>\n<style scoped>\n    .dataframe tbody tr th:only-of-type {\n        vertical-align: middle;\n    }\n\n    .dataframe tbody tr th {\n        vertical-align: top;\n    }\n\n    .dataframe thead th {\n        text-align: right;\n    }\n</style>\n<table border=\"1\" class=\"dataframe\">\n  <thead>\n    <tr style=\"text-align: right;\">\n      <th></th>\n      <th>id</th>\n      <th>diagnosis</th>\n      <th>radius_mean</th>\n      <th>texture_mean</th>\n      <th>perimeter_mean</th>\n      <th>area_mean</th>\n      <th>smoothness_mean</th>\n      <th>compactness_mean</th>\n      <th>concavity_mean</th>\n      <th>concave points_mean</th>\n      <th>...</th>\n      <th>texture_worst</th>\n      <th>perimeter_worst</th>\n      <th>area_worst</th>\n      <th>smoothness_worst</th>\n      <th>compactness_worst</th>\n      <th>concavity_worst</th>\n      <th>concave points_worst</th>\n      <th>symmetry_worst</th>\n      <th>fractal_dimension_worst</th>\n      <th>Unnamed: 32</th>\n    </tr>\n  </thead>\n  <tbody>\n    <tr>\n      <td>0</td>\n      <td>842302</td>\n      <td>M</td>\n      <td>17.99</td>\n      <td>10.38</td>\n      <td>122.80</td>\n      <td>1001.0</td>\n      <td>0.11840</td>\n      <td>0.27760</td>\n      <td>0.3001</td>\n      <td>0.14710</td>\n      <td>...</td>\n      <td>17.33</td>\n      <td>184.60</td>\n      <td>2019.0</td>\n      <td>0.1622</td>\n      <td>0.6656</td>\n      <td>0.7119</td>\n      <td>0.2654</td>\n      <td>0.4601</td>\n      <td>0.11890</td>\n      <td>NaN</td>\n    </tr>\n    <tr>\n      <td>1</td>\n      <td>842517</td>\n      <td>M</td>\n      <td>20.57</td>\n      <td>17.77</td>\n      <td>132.90</td>\n      <td>1326.0</td>\n      <td>0.08474</td>\n      <td>0.07864</td>\n      <td>0.0869</td>\n      <td>0.07017</td>\n      <td>...</td>\n      <td>23.41</td>\n      <td>158.80</td>\n      <td>1956.0</td>\n      <td>0.1238</td>\n      <td>0.1866</td>\n      <td>0.2416</td>\n      <td>0.1860</td>\n      <td>0.2750</td>\n      <td>0.08902</td>\n      <td>NaN</td>\n    </tr>\n    <tr>\n      <td>2</td>\n      <td>84300903</td>\n      <td>M</td>\n      <td>19.69</td>\n      <td>21.25</td>\n      <td>130.00</td>\n      <td>1203.0</td>\n      <td>0.10960</td>\n      <td>0.15990</td>\n      <td>0.1974</td>\n      <td>0.12790</td>\n      <td>...</td>\n      <td>25.53</td>\n      <td>152.50</td>\n      <td>1709.0</td>\n      <td>0.1444</td>\n      <td>0.4245</td>\n      <td>0.4504</td>\n      <td>0.2430</td>\n      <td>0.3613</td>\n      <td>0.08758</td>\n      <td>NaN</td>\n    </tr>\n    <tr>\n      <td>3</td>\n      <td>84348301</td>\n      <td>M</td>\n      <td>11.42</td>\n      <td>20.38</td>\n      <td>77.58</td>\n      <td>386.1</td>\n      <td>0.14250</td>\n      <td>0.28390</td>\n      <td>0.2414</td>\n      <td>0.10520</td>\n      <td>...</td>\n      <td>26.50</td>\n      <td>98.87</td>\n      <td>567.7</td>\n      <td>0.2098</td>\n      <td>0.8663</td>\n      <td>0.6869</td>\n      <td>0.2575</td>\n      <td>0.6638</td>\n      <td>0.17300</td>\n      <td>NaN</td>\n    </tr>\n    <tr>\n      <td>4</td>\n      <td>84358402</td>\n      <td>M</td>\n      <td>20.29</td>\n      <td>14.34</td>\n      <td>135.10</td>\n      <td>1297.0</td>\n      <td>0.10030</td>\n      <td>0.13280</td>\n      <td>0.1980</td>\n      <td>0.10430</td>\n      <td>...</td>\n      <td>16.67</td>\n      <td>152.20</td>\n      <td>1575.0</td>\n      <td>0.1374</td>\n      <td>0.2050</td>\n      <td>0.4000</td>\n      <td>0.1625</td>\n      <td>0.2364</td>\n      <td>0.07678</td>\n      <td>NaN</td>\n    </tr>\n  </tbody>\n</table>\n<p>5 rows × 33 columns</p>\n</div>"
          },
          "metadata": {},
          "execution_count": 4
        }
      ]
    },
    {
      "cell_type": "code",
      "execution_count": 6,
      "metadata": {},
      "outputs": [
        {
          "output_type": "execute_result",
          "data": {
            "text/plain": [
              "         id  diagnosis  radius_mean  texture_mean  perimeter_mean  area_mean  \\\n",
              "0    842302          0        17.99         10.38          122.80     1001.0   \n",
              "1    842517          0        20.57         17.77          132.90     1326.0   \n",
              "2  84300903          0        19.69         21.25          130.00     1203.0   \n",
              "3  84348301          0        11.42         20.38           77.58      386.1   \n",
              "4  84358402          0        20.29         14.34          135.10     1297.0   \n",
              "\n",
              "   smoothness_mean  compactness_mean  concavity_mean  concave points_mean  \\\n",
              "0          0.11840           0.27760          0.3001              0.14710   \n",
              "1          0.08474           0.07864          0.0869              0.07017   \n",
              "2          0.10960           0.15990          0.1974              0.12790   \n",
              "3          0.14250           0.28390          0.2414              0.10520   \n",
              "4          0.10030           0.13280          0.1980              0.10430   \n",
              "\n",
              "   ...  texture_worst  perimeter_worst  area_worst  smoothness_worst  \\\n",
              "0  ...          17.33           184.60      2019.0            0.1622   \n",
              "1  ...          23.41           158.80      1956.0            0.1238   \n",
              "2  ...          25.53           152.50      1709.0            0.1444   \n",
              "3  ...          26.50            98.87       567.7            0.2098   \n",
              "4  ...          16.67           152.20      1575.0            0.1374   \n",
              "\n",
              "   compactness_worst  concavity_worst  concave points_worst  symmetry_worst  \\\n",
              "0             0.6656           0.7119                0.2654          0.4601   \n",
              "1             0.1866           0.2416                0.1860          0.2750   \n",
              "2             0.4245           0.4504                0.2430          0.3613   \n",
              "3             0.8663           0.6869                0.2575          0.6638   \n",
              "4             0.2050           0.4000                0.1625          0.2364   \n",
              "\n",
              "   fractal_dimension_worst  Unnamed: 32  \n",
              "0                  0.11890          NaN  \n",
              "1                  0.08902          NaN  \n",
              "2                  0.08758          NaN  \n",
              "3                  0.17300          NaN  \n",
              "4                  0.07678          NaN  \n",
              "\n",
              "[5 rows x 33 columns]"
            ],
            "text/html": "<div>\n<style scoped>\n    .dataframe tbody tr th:only-of-type {\n        vertical-align: middle;\n    }\n\n    .dataframe tbody tr th {\n        vertical-align: top;\n    }\n\n    .dataframe thead th {\n        text-align: right;\n    }\n</style>\n<table border=\"1\" class=\"dataframe\">\n  <thead>\n    <tr style=\"text-align: right;\">\n      <th></th>\n      <th>id</th>\n      <th>diagnosis</th>\n      <th>radius_mean</th>\n      <th>texture_mean</th>\n      <th>perimeter_mean</th>\n      <th>area_mean</th>\n      <th>smoothness_mean</th>\n      <th>compactness_mean</th>\n      <th>concavity_mean</th>\n      <th>concave points_mean</th>\n      <th>...</th>\n      <th>texture_worst</th>\n      <th>perimeter_worst</th>\n      <th>area_worst</th>\n      <th>smoothness_worst</th>\n      <th>compactness_worst</th>\n      <th>concavity_worst</th>\n      <th>concave points_worst</th>\n      <th>symmetry_worst</th>\n      <th>fractal_dimension_worst</th>\n      <th>Unnamed: 32</th>\n    </tr>\n  </thead>\n  <tbody>\n    <tr>\n      <td>0</td>\n      <td>842302</td>\n      <td>0</td>\n      <td>17.99</td>\n      <td>10.38</td>\n      <td>122.80</td>\n      <td>1001.0</td>\n      <td>0.11840</td>\n      <td>0.27760</td>\n      <td>0.3001</td>\n      <td>0.14710</td>\n      <td>...</td>\n      <td>17.33</td>\n      <td>184.60</td>\n      <td>2019.0</td>\n      <td>0.1622</td>\n      <td>0.6656</td>\n      <td>0.7119</td>\n      <td>0.2654</td>\n      <td>0.4601</td>\n      <td>0.11890</td>\n      <td>NaN</td>\n    </tr>\n    <tr>\n      <td>1</td>\n      <td>842517</td>\n      <td>0</td>\n      <td>20.57</td>\n      <td>17.77</td>\n      <td>132.90</td>\n      <td>1326.0</td>\n      <td>0.08474</td>\n      <td>0.07864</td>\n      <td>0.0869</td>\n      <td>0.07017</td>\n      <td>...</td>\n      <td>23.41</td>\n      <td>158.80</td>\n      <td>1956.0</td>\n      <td>0.1238</td>\n      <td>0.1866</td>\n      <td>0.2416</td>\n      <td>0.1860</td>\n      <td>0.2750</td>\n      <td>0.08902</td>\n      <td>NaN</td>\n    </tr>\n    <tr>\n      <td>2</td>\n      <td>84300903</td>\n      <td>0</td>\n      <td>19.69</td>\n      <td>21.25</td>\n      <td>130.00</td>\n      <td>1203.0</td>\n      <td>0.10960</td>\n      <td>0.15990</td>\n      <td>0.1974</td>\n      <td>0.12790</td>\n      <td>...</td>\n      <td>25.53</td>\n      <td>152.50</td>\n      <td>1709.0</td>\n      <td>0.1444</td>\n      <td>0.4245</td>\n      <td>0.4504</td>\n      <td>0.2430</td>\n      <td>0.3613</td>\n      <td>0.08758</td>\n      <td>NaN</td>\n    </tr>\n    <tr>\n      <td>3</td>\n      <td>84348301</td>\n      <td>0</td>\n      <td>11.42</td>\n      <td>20.38</td>\n      <td>77.58</td>\n      <td>386.1</td>\n      <td>0.14250</td>\n      <td>0.28390</td>\n      <td>0.2414</td>\n      <td>0.10520</td>\n      <td>...</td>\n      <td>26.50</td>\n      <td>98.87</td>\n      <td>567.7</td>\n      <td>0.2098</td>\n      <td>0.8663</td>\n      <td>0.6869</td>\n      <td>0.2575</td>\n      <td>0.6638</td>\n      <td>0.17300</td>\n      <td>NaN</td>\n    </tr>\n    <tr>\n      <td>4</td>\n      <td>84358402</td>\n      <td>0</td>\n      <td>20.29</td>\n      <td>14.34</td>\n      <td>135.10</td>\n      <td>1297.0</td>\n      <td>0.10030</td>\n      <td>0.13280</td>\n      <td>0.1980</td>\n      <td>0.10430</td>\n      <td>...</td>\n      <td>16.67</td>\n      <td>152.20</td>\n      <td>1575.0</td>\n      <td>0.1374</td>\n      <td>0.2050</td>\n      <td>0.4000</td>\n      <td>0.1625</td>\n      <td>0.2364</td>\n      <td>0.07678</td>\n      <td>NaN</td>\n    </tr>\n  </tbody>\n</table>\n<p>5 rows × 33 columns</p>\n</div>"
          },
          "metadata": {},
          "execution_count": 6
        }
      ],
      "source": [
        "#turn M = 1 B = 0\n",
        "df[\"diagnosis\"] = df['diagnosis'].apply(lambda i : 1 if i == 'M' else 0)\n",
        "df.head()"
      ]
    },
    {
      "cell_type": "code",
      "metadata": {
        "colab": {
          "base_uri": "https://localhost:8080/"
        },
        "id": "-zVEHSPokSYm",
        "outputId": "13970401-5b7b-4f6a-c328-d1f785626a91"
      },
      "source": [
        "features = df.columns.tolist()[2:-1]\n",
        "features"
      ],
      "execution_count": 7,
      "outputs": [
        {
          "output_type": "execute_result",
          "data": {
            "text/plain": [
              "['radius_mean',\n",
              " 'texture_mean',\n",
              " 'perimeter_mean',\n",
              " 'area_mean',\n",
              " 'smoothness_mean',\n",
              " 'compactness_mean',\n",
              " 'concavity_mean',\n",
              " 'concave points_mean',\n",
              " 'symmetry_mean',\n",
              " 'fractal_dimension_mean',\n",
              " 'radius_se',\n",
              " 'texture_se',\n",
              " 'perimeter_se',\n",
              " 'area_se',\n",
              " 'smoothness_se',\n",
              " 'compactness_se',\n",
              " 'concavity_se',\n",
              " 'concave points_se',\n",
              " 'symmetry_se',\n",
              " 'fractal_dimension_se',\n",
              " 'radius_worst',\n",
              " 'texture_worst',\n",
              " 'perimeter_worst',\n",
              " 'area_worst',\n",
              " 'smoothness_worst',\n",
              " 'compactness_worst',\n",
              " 'concavity_worst',\n",
              " 'concave points_worst',\n",
              " 'symmetry_worst',\n",
              " 'fractal_dimension_worst']"
            ]
          },
          "metadata": {},
          "execution_count": 7
        }
      ]
    },
    {
      "cell_type": "code",
      "execution_count": 8,
      "metadata": {},
      "outputs": [
        {
          "output_type": "execute_result",
          "data": {
            "text/plain": [
              "   radius_mean  texture_mean  perimeter_mean  area_mean  smoothness_mean  \\\n",
              "0     0.521037      0.022658        0.545989   0.363733         0.593753   \n",
              "1     0.643144      0.272574        0.615783   0.501591         0.289880   \n",
              "2     0.601496      0.390260        0.595743   0.449417         0.514309   \n",
              "3     0.210090      0.360839        0.233501   0.102906         0.811321   \n",
              "4     0.629893      0.156578        0.630986   0.489290         0.430351   \n",
              "\n",
              "   compactness_mean  concavity_mean  concave points_mean  symmetry_mean  \\\n",
              "0          0.792037        0.703140             0.731113       0.686364   \n",
              "1          0.181768        0.203608             0.348757       0.379798   \n",
              "2          0.431017        0.462512             0.635686       0.509596   \n",
              "3          0.811361        0.565604             0.522863       0.776263   \n",
              "4          0.347893        0.463918             0.518390       0.378283   \n",
              "\n",
              "   fractal_dimension_mean  ...  radius_worst  texture_worst  perimeter_worst  \\\n",
              "0                0.605518  ...      0.620776       0.141525         0.668310   \n",
              "1                0.141323  ...      0.606901       0.303571         0.539818   \n",
              "2                0.211247  ...      0.556386       0.360075         0.508442   \n",
              "3                1.000000  ...      0.248310       0.385928         0.241347   \n",
              "4                0.186816  ...      0.519744       0.123934         0.506948   \n",
              "\n",
              "   area_worst  smoothness_worst  compactness_worst  concavity_worst  \\\n",
              "0    0.450698          0.601136           0.619292         0.568610   \n",
              "1    0.435214          0.347553           0.154563         0.192971   \n",
              "2    0.374508          0.483590           0.385375         0.359744   \n",
              "3    0.094008          0.915472           0.814012         0.548642   \n",
              "4    0.341575          0.437364           0.172415         0.319489   \n",
              "\n",
              "   concave points_worst  symmetry_worst  fractal_dimension_worst  \n",
              "0              0.912027        0.598462                 0.418864  \n",
              "1              0.639175        0.233590                 0.222878  \n",
              "2              0.835052        0.403706                 0.213433  \n",
              "3              0.884880        1.000000                 0.773711  \n",
              "4              0.558419        0.157500                 0.142595  \n",
              "\n",
              "[5 rows x 30 columns]"
            ],
            "text/html": "<div>\n<style scoped>\n    .dataframe tbody tr th:only-of-type {\n        vertical-align: middle;\n    }\n\n    .dataframe tbody tr th {\n        vertical-align: top;\n    }\n\n    .dataframe thead th {\n        text-align: right;\n    }\n</style>\n<table border=\"1\" class=\"dataframe\">\n  <thead>\n    <tr style=\"text-align: right;\">\n      <th></th>\n      <th>radius_mean</th>\n      <th>texture_mean</th>\n      <th>perimeter_mean</th>\n      <th>area_mean</th>\n      <th>smoothness_mean</th>\n      <th>compactness_mean</th>\n      <th>concavity_mean</th>\n      <th>concave points_mean</th>\n      <th>symmetry_mean</th>\n      <th>fractal_dimension_mean</th>\n      <th>...</th>\n      <th>radius_worst</th>\n      <th>texture_worst</th>\n      <th>perimeter_worst</th>\n      <th>area_worst</th>\n      <th>smoothness_worst</th>\n      <th>compactness_worst</th>\n      <th>concavity_worst</th>\n      <th>concave points_worst</th>\n      <th>symmetry_worst</th>\n      <th>fractal_dimension_worst</th>\n    </tr>\n  </thead>\n  <tbody>\n    <tr>\n      <td>0</td>\n      <td>0.521037</td>\n      <td>0.022658</td>\n      <td>0.545989</td>\n      <td>0.363733</td>\n      <td>0.593753</td>\n      <td>0.792037</td>\n      <td>0.703140</td>\n      <td>0.731113</td>\n      <td>0.686364</td>\n      <td>0.605518</td>\n      <td>...</td>\n      <td>0.620776</td>\n      <td>0.141525</td>\n      <td>0.668310</td>\n      <td>0.450698</td>\n      <td>0.601136</td>\n      <td>0.619292</td>\n      <td>0.568610</td>\n      <td>0.912027</td>\n      <td>0.598462</td>\n      <td>0.418864</td>\n    </tr>\n    <tr>\n      <td>1</td>\n      <td>0.643144</td>\n      <td>0.272574</td>\n      <td>0.615783</td>\n      <td>0.501591</td>\n      <td>0.289880</td>\n      <td>0.181768</td>\n      <td>0.203608</td>\n      <td>0.348757</td>\n      <td>0.379798</td>\n      <td>0.141323</td>\n      <td>...</td>\n      <td>0.606901</td>\n      <td>0.303571</td>\n      <td>0.539818</td>\n      <td>0.435214</td>\n      <td>0.347553</td>\n      <td>0.154563</td>\n      <td>0.192971</td>\n      <td>0.639175</td>\n      <td>0.233590</td>\n      <td>0.222878</td>\n    </tr>\n    <tr>\n      <td>2</td>\n      <td>0.601496</td>\n      <td>0.390260</td>\n      <td>0.595743</td>\n      <td>0.449417</td>\n      <td>0.514309</td>\n      <td>0.431017</td>\n      <td>0.462512</td>\n      <td>0.635686</td>\n      <td>0.509596</td>\n      <td>0.211247</td>\n      <td>...</td>\n      <td>0.556386</td>\n      <td>0.360075</td>\n      <td>0.508442</td>\n      <td>0.374508</td>\n      <td>0.483590</td>\n      <td>0.385375</td>\n      <td>0.359744</td>\n      <td>0.835052</td>\n      <td>0.403706</td>\n      <td>0.213433</td>\n    </tr>\n    <tr>\n      <td>3</td>\n      <td>0.210090</td>\n      <td>0.360839</td>\n      <td>0.233501</td>\n      <td>0.102906</td>\n      <td>0.811321</td>\n      <td>0.811361</td>\n      <td>0.565604</td>\n      <td>0.522863</td>\n      <td>0.776263</td>\n      <td>1.000000</td>\n      <td>...</td>\n      <td>0.248310</td>\n      <td>0.385928</td>\n      <td>0.241347</td>\n      <td>0.094008</td>\n      <td>0.915472</td>\n      <td>0.814012</td>\n      <td>0.548642</td>\n      <td>0.884880</td>\n      <td>1.000000</td>\n      <td>0.773711</td>\n    </tr>\n    <tr>\n      <td>4</td>\n      <td>0.629893</td>\n      <td>0.156578</td>\n      <td>0.630986</td>\n      <td>0.489290</td>\n      <td>0.430351</td>\n      <td>0.347893</td>\n      <td>0.463918</td>\n      <td>0.518390</td>\n      <td>0.378283</td>\n      <td>0.186816</td>\n      <td>...</td>\n      <td>0.519744</td>\n      <td>0.123934</td>\n      <td>0.506948</td>\n      <td>0.341575</td>\n      <td>0.437364</td>\n      <td>0.172415</td>\n      <td>0.319489</td>\n      <td>0.558419</td>\n      <td>0.157500</td>\n      <td>0.142595</td>\n    </tr>\n  </tbody>\n</table>\n<p>5 rows × 30 columns</p>\n</div>"
          },
          "metadata": {},
          "execution_count": 8
        }
      ],
      "source": [
        "X = df[features]\n",
        "label = 'diagnosis'\n",
        "y = df[label]\n",
        "\n",
        "# normalize\n",
        "X = X.apply(lambda x: (x - x.min()) / (x.max() - x.min()))\n",
        "X.head()"
      ]
    },
    {
      "source": [
        "<h1> Fitness Function"
      ],
      "cell_type": "markdown",
      "metadata": {}
    },
    {
      "source": [
        "<h2> Manhattan Score Table"
      ],
      "cell_type": "markdown",
      "metadata": {}
    },
    {
      "cell_type": "code",
      "execution_count": 10,
      "metadata": {},
      "outputs": [
        {
          "output_type": "execute_result",
          "data": {
            "text/plain": [
              "         radius_mean  texture_mean  perimeter_mean  area_mean  \\\n",
              "Outcome     0.563995      0.553759        0.558932   0.441643   \n",
              "\n",
              "         smoothness_mean  compactness_mean  concavity_mean  \\\n",
              "Outcome         0.619624          0.486704        0.409237   \n",
              "\n",
              "         concave points_mean  symmetry_mean  fractal_dimension_mean  ...  \\\n",
              "Outcome             0.452685       0.605469                 0.50061  ...   \n",
              "\n",
              "         radius_worst  texture_worst  perimeter_worst  area_worst  \\\n",
              "Outcome      0.522842       0.586557         0.509982    0.384911   \n",
              "\n",
              "         smoothness_worst  compactness_worst  concavity_worst  \\\n",
              "Outcome          0.623639           0.442786         0.427644   \n",
              "\n",
              "         concave points_worst  symmetry_worst  fractal_dimension_worst  \n",
              "Outcome              0.595616        0.499485                 0.415662  \n",
              "\n",
              "[1 rows x 30 columns]"
            ],
            "text/html": "<div>\n<style scoped>\n    .dataframe tbody tr th:only-of-type {\n        vertical-align: middle;\n    }\n\n    .dataframe tbody tr th {\n        vertical-align: top;\n    }\n\n    .dataframe thead th {\n        text-align: right;\n    }\n</style>\n<table border=\"1\" class=\"dataframe\">\n  <thead>\n    <tr style=\"text-align: right;\">\n      <th></th>\n      <th>radius_mean</th>\n      <th>texture_mean</th>\n      <th>perimeter_mean</th>\n      <th>area_mean</th>\n      <th>smoothness_mean</th>\n      <th>compactness_mean</th>\n      <th>concavity_mean</th>\n      <th>concave points_mean</th>\n      <th>symmetry_mean</th>\n      <th>fractal_dimension_mean</th>\n      <th>...</th>\n      <th>radius_worst</th>\n      <th>texture_worst</th>\n      <th>perimeter_worst</th>\n      <th>area_worst</th>\n      <th>smoothness_worst</th>\n      <th>compactness_worst</th>\n      <th>concavity_worst</th>\n      <th>concave points_worst</th>\n      <th>symmetry_worst</th>\n      <th>fractal_dimension_worst</th>\n    </tr>\n  </thead>\n  <tbody>\n    <tr>\n      <td>Outcome</td>\n      <td>0.563995</td>\n      <td>0.553759</td>\n      <td>0.558932</td>\n      <td>0.441643</td>\n      <td>0.619624</td>\n      <td>0.486704</td>\n      <td>0.409237</td>\n      <td>0.452685</td>\n      <td>0.605469</td>\n      <td>0.50061</td>\n      <td>...</td>\n      <td>0.522842</td>\n      <td>0.586557</td>\n      <td>0.509982</td>\n      <td>0.384911</td>\n      <td>0.623639</td>\n      <td>0.442786</td>\n      <td>0.427644</td>\n      <td>0.595616</td>\n      <td>0.499485</td>\n      <td>0.415662</td>\n    </tr>\n  </tbody>\n</table>\n<p>1 rows × 30 columns</p>\n</div>"
          },
          "metadata": {},
          "execution_count": 10
        }
      ],
      "source": [
        "df_md = {'Outcome': []}\n",
        "\n",
        "for f in features:\n",
        "    df_md['Outcome'].append(np.mean([np.sqrt(abs(a[0]-a[1])) for a in zip(X[f], y)]))\n",
        "\n",
        "df_md = pd.DataFrame.from_dict(df_md)\n",
        "df_md.index = features\n",
        "df_md.T"
      ]
    },
    {
      "source": [
        "<h1>Function Tools"
      ],
      "cell_type": "markdown",
      "metadata": {}
    },
    {
      "cell_type": "code",
      "execution_count": 11,
      "metadata": {},
      "outputs": [],
      "source": [
        "def convertZeroOne(features, zeroOneList):\n",
        "    \"\"\"\n",
        "    convert list of 0 and 1 to be list of string feature\n",
        "    \"\"\"\n",
        "    return [features[i] for i in range(len(zeroOneList)) if zeroOneList[i] == 1]"
      ]
    },
    {
      "source": [
        "<h1>Set up db"
      ],
      "cell_type": "markdown",
      "metadata": {}
    },
    {
      "cell_type": "code",
      "execution_count": 12,
      "metadata": {},
      "outputs": [],
      "source": [
        "def checkTableExists(dbcon, tablename):\n",
        "    dbcur = dbcon.cursor()\n",
        "    dbcur.execute(\"\"\"\n",
        "        SELECT COUNT(*)\n",
        "        FROM information_schema.tables\n",
        "        WHERE table_name = '{0}'\n",
        "        \"\"\".format(tablename.replace('\\'', '\\'\\'')))\n",
        "    if dbcur.fetchone()[0] == 1:\n",
        "        dbcur.close()\n",
        "        return True\n",
        "\n",
        "    dbcur.close()\n",
        "    return False"
      ]
    },
    {
      "cell_type": "code",
      "execution_count": 13,
      "metadata": {},
      "outputs": [],
      "source": [
        "def createTable(dbcon, tablename, create_sql):\n",
        "    if checkTableExists(dbcon, tablename):\n",
        "        mycursor.execute('drop TABLE', tablename)      \n",
        "    mycursor.execute(create_sql)\n"
      ]
    },
    {
      "cell_type": "code",
      "execution_count": 21,
      "metadata": {},
      "outputs": [
        {
          "output_type": "stream",
          "name": "stdout",
          "text": [
            "<mysql.connector.connection_cext.CMySQLConnection object at 0x00000207CF697AC8>\n"
          ]
        }
      ],
      "source": [
        "mydb = mysql.connector.connect(\n",
        "  host=\"localhost\",\n",
        "  user=\"admin\",\n",
        "  password=\"admin\",\n",
        "  database='ml_db'\n",
        ")\n",
        "mycursor = mydb.cursor(buffered=True)\n",
        "\n",
        "print(mydb)"
      ]
    },
    {
      "cell_type": "code",
      "execution_count": 33,
      "metadata": {},
      "outputs": [
        {
          "output_type": "execute_result",
          "data": {
            "text/plain": [
              "'radius_mean int(1) ,texture_mean int(1) ,perimeter_mean int(1) ,area_mean int(1) ,smoothness_mean int(1) ,compactness_mean int(1) ,concavity_mean int(1) ,concave_points_mean int(1) ,symmetry_mean int(1) ,fractal_dimension_mean int(1) ,radius_se int(1) ,texture_se int(1) ,perimeter_se int(1) ,area_se int(1) ,smoothness_se int(1) ,compactness_se int(1) ,concavity_se int(1) ,concave_points_se int(1) ,symmetry_se int(1) ,fractal_dimension_se int(1) ,radius_worst int(1) ,texture_worst int(1) ,perimeter_worst int(1) ,area_worst int(1) ,smoothness_worst int(1) ,compactness_worst int(1) ,concavity_worst int(1) ,concave_points_worst int(1) ,symmetry_worst int(1) ,fractal_dimension_worst int(1) '"
            ]
          },
          "metadata": {},
          "execution_count": 33
        }
      ],
      "source": [
        "feature_create_sql = ''\n",
        "for feature in features:\n",
        "    feature_create_sql  += str(feature).replace(' ', '_')+' int(1) ,'\n",
        "feature_create_sql = feature_create_sql[:-1]\n",
        "feature_create_sql"
      ]
    },
    {
      "cell_type": "code",
      "execution_count": 35,
      "metadata": {},
      "outputs": [
        {
          "output_type": "stream",
          "name": "stdout",
          "text": [
            "bc_population created\n",
            "bc_selection created\n",
            "bc_crossover created\n",
            "bc_mutation created\n"
          ]
        }
      ],
      "source": [
        "#bc_population\n",
        "bc_population_create_sql = 'create table bc_POPULATION ('+ feature_create_sql +');'\n",
        "try:\n",
        "    createTable(mydb, 'bc_population', bc_population_create_sql)\n",
        "    print('bc_population created')\n",
        "except:\n",
        "    mycursor.execute('drop table bc_population')\n",
        "    createTable(mydb, 'bc_population', bc_population_create_sql)\n",
        "    print('bc_population created')\n",
        "\n",
        "#bc_selection\n",
        "bc_selection_create_sql = 'create table bc_selection ('+ feature_create_sql +');'\n",
        "try:\n",
        "    createTable(mydb, 'bc_selection', bc_selection_create_sql)\n",
        "    print('bc_selection created')\n",
        "except:\n",
        "    mycursor.execute('drop table bc_selection')\n",
        "    createTable(mydb, 'bc_selection', bc_selection_create_sql)\n",
        "    print('bc_selection created')\n",
        "\n",
        "#bc_crossover\n",
        "bc_crossover_create_sql = 'create table bc_crossover ('+ feature_create_sql +');'\n",
        "try:\n",
        "    createTable(mydb, 'bc_crossover', bc_crossover_create_sql)\n",
        "    print('bc_crossover created')\n",
        "except:\n",
        "    mycursor.execute('drop table bc_crossover')\n",
        "    createTable(mydb, 'bc_crossover', bc_crossover_create_sql)\n",
        "    print('bc_crossover created')\n",
        "\n",
        "#bc_mutation\n",
        "bc_mutation_create_sql = 'create table bc_mutation ('+ feature_create_sql +');'\n",
        "try:\n",
        "    createTable(mydb, 'bc_mutation', bc_mutation_create_sql)\n",
        "    print('bc_mutation created')\n",
        "except:\n",
        "    mycursor.execute('drop table bc_mutation')\n",
        "    createTable(mydb, 'bc_mutation', bc_mutation_create_sql)\n",
        "    print('bc_mutation created')"
      ]
    },
    {
      "source": [
        "<h1> Initialise Population"
      ],
      "cell_type": "markdown",
      "metadata": {}
    },
    {
      "cell_type": "code",
      "metadata": {
        "colab": {
          "base_uri": "https://localhost:8080/"
        },
        "id": "GwXVF1Cqklz1",
        "outputId": "0a4dc701-73c7-4ff9-bf32-47cce2f90aad"
      },
      "source": [
        "# from compiler.ast import flatten\n",
        "all_population = [list(combinations(features, i)) for i in range(1, len(features)+1)]\n",
        "temp = list()\n",
        "for lst in all_population:\n",
        "    temp.extend(lst)\n",
        "all_population = temp\n",
        "\n",
        "all_population[:10]"
      ],
      "execution_count": 36,
      "outputs": [
        {
          "output_type": "error",
          "ename": "MemoryError",
          "evalue": "",
          "traceback": [
            "\u001b[1;31m---------------------------------------------------------------------------\u001b[0m",
            "\u001b[1;31mMemoryError\u001b[0m                               Traceback (most recent call last)",
            "\u001b[1;32m<ipython-input-36-dab81f64107f>\u001b[0m in \u001b[0;36m<module>\u001b[1;34m\u001b[0m\n\u001b[0;32m      1\u001b[0m \u001b[1;31m# from compiler.ast import flatten\u001b[0m\u001b[1;33m\u001b[0m\u001b[1;33m\u001b[0m\u001b[1;33m\u001b[0m\u001b[0m\n\u001b[1;32m----> 2\u001b[1;33m \u001b[0mall_population\u001b[0m \u001b[1;33m=\u001b[0m \u001b[1;33m[\u001b[0m\u001b[0mlist\u001b[0m\u001b[1;33m(\u001b[0m\u001b[0mcombinations\u001b[0m\u001b[1;33m(\u001b[0m\u001b[0mfeatures\u001b[0m\u001b[1;33m,\u001b[0m \u001b[0mi\u001b[0m\u001b[1;33m)\u001b[0m\u001b[1;33m)\u001b[0m \u001b[1;32mfor\u001b[0m \u001b[0mi\u001b[0m \u001b[1;32min\u001b[0m \u001b[0mrange\u001b[0m\u001b[1;33m(\u001b[0m\u001b[1;36m1\u001b[0m\u001b[1;33m,\u001b[0m \u001b[0mlen\u001b[0m\u001b[1;33m(\u001b[0m\u001b[0mfeatures\u001b[0m\u001b[1;33m)\u001b[0m\u001b[1;33m+\u001b[0m\u001b[1;36m1\u001b[0m\u001b[1;33m)\u001b[0m\u001b[1;33m]\u001b[0m\u001b[1;33m\u001b[0m\u001b[1;33m\u001b[0m\u001b[0m\n\u001b[0m\u001b[0;32m      3\u001b[0m \u001b[0mtemp\u001b[0m \u001b[1;33m=\u001b[0m \u001b[0mlist\u001b[0m\u001b[1;33m(\u001b[0m\u001b[1;33m)\u001b[0m\u001b[1;33m\u001b[0m\u001b[1;33m\u001b[0m\u001b[0m\n\u001b[0;32m      4\u001b[0m \u001b[1;32mfor\u001b[0m \u001b[0mlst\u001b[0m \u001b[1;32min\u001b[0m \u001b[0mall_population\u001b[0m\u001b[1;33m:\u001b[0m\u001b[1;33m\u001b[0m\u001b[1;33m\u001b[0m\u001b[0m\n\u001b[0;32m      5\u001b[0m     \u001b[0mtemp\u001b[0m\u001b[1;33m.\u001b[0m\u001b[0mextend\u001b[0m\u001b[1;33m(\u001b[0m\u001b[0mlst\u001b[0m\u001b[1;33m)\u001b[0m\u001b[1;33m\u001b[0m\u001b[1;33m\u001b[0m\u001b[0m\n",
            "\u001b[1;32m<ipython-input-36-dab81f64107f>\u001b[0m in \u001b[0;36m<listcomp>\u001b[1;34m(.0)\u001b[0m\n\u001b[0;32m      1\u001b[0m \u001b[1;31m# from compiler.ast import flatten\u001b[0m\u001b[1;33m\u001b[0m\u001b[1;33m\u001b[0m\u001b[1;33m\u001b[0m\u001b[0m\n\u001b[1;32m----> 2\u001b[1;33m \u001b[0mall_population\u001b[0m \u001b[1;33m=\u001b[0m \u001b[1;33m[\u001b[0m\u001b[0mlist\u001b[0m\u001b[1;33m(\u001b[0m\u001b[0mcombinations\u001b[0m\u001b[1;33m(\u001b[0m\u001b[0mfeatures\u001b[0m\u001b[1;33m,\u001b[0m \u001b[0mi\u001b[0m\u001b[1;33m)\u001b[0m\u001b[1;33m)\u001b[0m \u001b[1;32mfor\u001b[0m \u001b[0mi\u001b[0m \u001b[1;32min\u001b[0m \u001b[0mrange\u001b[0m\u001b[1;33m(\u001b[0m\u001b[1;36m1\u001b[0m\u001b[1;33m,\u001b[0m \u001b[0mlen\u001b[0m\u001b[1;33m(\u001b[0m\u001b[0mfeatures\u001b[0m\u001b[1;33m)\u001b[0m\u001b[1;33m+\u001b[0m\u001b[1;36m1\u001b[0m\u001b[1;33m)\u001b[0m\u001b[1;33m]\u001b[0m\u001b[1;33m\u001b[0m\u001b[1;33m\u001b[0m\u001b[0m\n\u001b[0m\u001b[0;32m      3\u001b[0m \u001b[0mtemp\u001b[0m \u001b[1;33m=\u001b[0m \u001b[0mlist\u001b[0m\u001b[1;33m(\u001b[0m\u001b[1;33m)\u001b[0m\u001b[1;33m\u001b[0m\u001b[1;33m\u001b[0m\u001b[0m\n\u001b[0;32m      4\u001b[0m \u001b[1;32mfor\u001b[0m \u001b[0mlst\u001b[0m \u001b[1;32min\u001b[0m \u001b[0mall_population\u001b[0m\u001b[1;33m:\u001b[0m\u001b[1;33m\u001b[0m\u001b[1;33m\u001b[0m\u001b[0m\n\u001b[0;32m      5\u001b[0m     \u001b[0mtemp\u001b[0m\u001b[1;33m.\u001b[0m\u001b[0mextend\u001b[0m\u001b[1;33m(\u001b[0m\u001b[0mlst\u001b[0m\u001b[1;33m)\u001b[0m\u001b[1;33m\u001b[0m\u001b[1;33m\u001b[0m\u001b[0m\n",
            "\u001b[1;31mMemoryError\u001b[0m: "
          ]
        }
      ]
    },
    {
      "cell_type": "code",
      "metadata": {
        "colab": {
          "base_uri": "https://localhost:8080/"
        },
        "id": "OEL5omPfnHtQ",
        "outputId": "f7c57311-1e7d-414d-b918-ee40b13da121"
      },
      "source": [
        "len(all_population)"
      ],
      "execution_count": 12,
      "outputs": [
        {
          "output_type": "execute_result",
          "data": {
            "text/plain": [
              "255"
            ]
          },
          "metadata": {},
          "execution_count": 12
        }
      ]
    },
    {
      "cell_type": "code",
      "metadata": {
        "colab": {
          "base_uri": "https://localhost:8080/"
        },
        "id": "7nrhqZN3n2Ge",
        "outputId": "6038a59b-2666-4686-a2db-648153286090"
      },
      "source": [
        "init_pop = list()\n",
        "zeros = [0 for i in range(len(features))]\n",
        "\n",
        "for pop in all_population:\n",
        "    for attr in pop:\n",
        "        zeros[features.index(attr)] = 1\n",
        "    init_pop.append(zeros)\n",
        "    zeros = [0 for i in range(len(features))]\n",
        "init_pop[:10]"
      ],
      "execution_count": 13,
      "outputs": [
        {
          "output_type": "execute_result",
          "data": {
            "text/plain": [
              "[[1, 0, 0, 0, 0, 0, 0, 0],\n",
              " [0, 1, 0, 0, 0, 0, 0, 0],\n",
              " [0, 0, 1, 0, 0, 0, 0, 0],\n",
              " [0, 0, 0, 1, 0, 0, 0, 0],\n",
              " [0, 0, 0, 0, 1, 0, 0, 0],\n",
              " [0, 0, 0, 0, 0, 1, 0, 0],\n",
              " [0, 0, 0, 0, 0, 0, 1, 0],\n",
              " [0, 0, 0, 0, 0, 0, 0, 1],\n",
              " [1, 1, 0, 0, 0, 0, 0, 0],\n",
              " [1, 0, 1, 0, 0, 0, 0, 0]]"
            ]
          },
          "metadata": {},
          "execution_count": 13
        }
      ]
    },
    {
      "cell_type": "code",
      "execution_count": 14,
      "metadata": {},
      "outputs": [
        {
          "output_type": "execute_result",
          "data": {
            "text/plain": [
              "'Pregnancies, Glucose, BloodPressure, SkinThickness, Insulin, BMI, DiabetesPedigreeFunction, Age'"
            ]
          },
          "metadata": {},
          "execution_count": 14
        }
      ],
      "source": [
        "columns = str(features).replace('[', '').replace(']', '').replace(\"'\", '')\n",
        "columns"
      ]
    },
    {
      "cell_type": "code",
      "metadata": {
        "colab": {
          "base_uri": "https://localhost:8080/"
        },
        "id": "IKK4FTXVqFBH",
        "outputId": "2cb0b5a4-b138-4206-80ad-8d301a8bb824"
      },
      "source": [
        "len(init_pop)"
      ],
      "execution_count": 15,
      "outputs": [
        {
          "output_type": "execute_result",
          "data": {
            "text/plain": [
              "255"
            ]
          },
          "metadata": {},
          "execution_count": 15
        }
      ]
    },
    {
      "source": [
        "<h2>Insert Population Table"
      ],
      "cell_type": "markdown",
      "metadata": {}
    },
    {
      "cell_type": "code",
      "metadata": {
        "id": "PFOCuEr8q5o3"
      },
      "source": [
        "#insert init_pop to db\n",
        "insert_pop_sql = 'insert into population ('+columns+') values (%s, %s, %s, %s, %s, %s, %s, %s)'\n",
        "mycursor.executemany(insert_pop_sql, init_pop)\n",
        "try:\n",
        "    mydb.commit()\n",
        "    print(mycursor.rowcount, 'was inserted.')\n",
        "except:\n",
        "    mydb.rollback()\n",
        "    print('rollbacked')"
      ],
      "execution_count": 16,
      "outputs": [
        {
          "output_type": "stream",
          "name": "stdout",
          "text": [
            "255 was inserted.\n"
          ]
        }
      ]
    },
    {
      "source": [
        "<h1> Evaluate and Selection"
      ],
      "cell_type": "markdown",
      "metadata": {}
    },
    {
      "cell_type": "code",
      "execution_count": 17,
      "metadata": {},
      "outputs": [
        {
          "output_type": "execute_result",
          "data": {
            "text/plain": [
              "0.5"
            ]
          },
          "metadata": {},
          "execution_count": 17
        }
      ],
      "source": [
        "#get top 3/4 selection population\n",
        "#the criteria to pass to the next gen is 0.5 bcuz the max value is 1 after the normalization\n",
        "pass_criteria = 0.5\n",
        "pass_criteria"
      ]
    },
    {
      "cell_type": "code",
      "execution_count": 18,
      "metadata": {},
      "outputs": [],
      "source": [
        "history_fitness_funct = dict() # dict of zeroOneList and its score that have been used fitness_func\n",
        "def fitness_func(features, zeroOneList):\n",
        "    \"\"\"\n",
        "    mean of mahattan distance of all selected features\n",
        "    \"\"\"\n",
        "    if str(zeroOneList) in history_fitness_funct:\n",
        "        return history_fitness_funct[str(zeroOneList)]\n",
        "\n",
        "    if zeroOneList == [0 for i in range(len(feat))]:\n",
        "        return 0\n",
        "\n",
        "    history_fitness_funct[str(zeroOneList)] = np.mean([df_md.T[f] for f in convertZeroOne(features, zeroOneList)])\n",
        "    return history_fitness_funct[str(zeroOneList)]\n"
      ]
    },
    {
      "cell_type": "code",
      "execution_count": 19,
      "metadata": {},
      "outputs": [
        {
          "output_type": "stream",
          "name": "stdout",
          "text": [
            "Strong generation(>= 0.5) : 250\n"
          ]
        },
        {
          "output_type": "execute_result",
          "data": {
            "text/plain": [
              "[[1, 0, 0, 0, 0, 0, 0, 0],\n",
              " [0, 1, 0, 0, 0, 0, 0, 0],\n",
              " [0, 0, 1, 0, 0, 0, 0, 0],\n",
              " [0, 0, 0, 1, 0, 0, 0, 0],\n",
              " [0, 0, 0, 0, 0, 1, 0, 0],\n",
              " [0, 0, 0, 0, 0, 0, 1, 0],\n",
              " [0, 0, 0, 0, 0, 0, 0, 1],\n",
              " [1, 1, 0, 0, 0, 0, 0, 0],\n",
              " [1, 0, 1, 0, 0, 0, 0, 0],\n",
              " [1, 0, 0, 1, 0, 0, 0, 0],\n",
              " [1, 0, 0, 0, 0, 1, 0, 0],\n",
              " [1, 0, 0, 0, 0, 0, 1, 0],\n",
              " [1, 0, 0, 0, 0, 0, 0, 1],\n",
              " [0, 1, 1, 0, 0, 0, 0, 0],\n",
              " [0, 1, 0, 1, 0, 0, 0, 0],\n",
              " [0, 1, 0, 0, 1, 0, 0, 0],\n",
              " [0, 1, 0, 0, 0, 1, 0, 0],\n",
              " [0, 1, 0, 0, 0, 0, 1, 0],\n",
              " [0, 1, 0, 0, 0, 0, 0, 1],\n",
              " [0, 0, 1, 1, 0, 0, 0, 0],\n",
              " [0, 0, 1, 0, 1, 0, 0, 0],\n",
              " [0, 0, 1, 0, 0, 1, 0, 0],\n",
              " [0, 0, 1, 0, 0, 0, 1, 0],\n",
              " [0, 0, 1, 0, 0, 0, 0, 1],\n",
              " [0, 0, 0, 1, 0, 1, 0, 0],\n",
              " [0, 0, 0, 1, 0, 0, 1, 0],\n",
              " [0, 0, 0, 1, 0, 0, 0, 1],\n",
              " [0, 0, 0, 0, 1, 1, 0, 0],\n",
              " [0, 0, 0, 0, 0, 1, 1, 0],\n",
              " [0, 0, 0, 0, 0, 1, 0, 1],\n",
              " [0, 0, 0, 0, 0, 0, 1, 1],\n",
              " [1, 1, 1, 0, 0, 0, 0, 0],\n",
              " [1, 1, 0, 1, 0, 0, 0, 0],\n",
              " [1, 1, 0, 0, 1, 0, 0, 0],\n",
              " [1, 1, 0, 0, 0, 1, 0, 0],\n",
              " [1, 1, 0, 0, 0, 0, 1, 0],\n",
              " [1, 1, 0, 0, 0, 0, 0, 1],\n",
              " [1, 0, 1, 1, 0, 0, 0, 0],\n",
              " [1, 0, 1, 0, 1, 0, 0, 0],\n",
              " [1, 0, 1, 0, 0, 1, 0, 0],\n",
              " [1, 0, 1, 0, 0, 0, 1, 0],\n",
              " [1, 0, 1, 0, 0, 0, 0, 1],\n",
              " [1, 0, 0, 1, 1, 0, 0, 0],\n",
              " [1, 0, 0, 1, 0, 1, 0, 0],\n",
              " [1, 0, 0, 1, 0, 0, 1, 0],\n",
              " [1, 0, 0, 1, 0, 0, 0, 1],\n",
              " [1, 0, 0, 0, 1, 1, 0, 0],\n",
              " [1, 0, 0, 0, 1, 0, 1, 0],\n",
              " [1, 0, 0, 0, 1, 0, 0, 1],\n",
              " [1, 0, 0, 0, 0, 1, 1, 0],\n",
              " [1, 0, 0, 0, 0, 1, 0, 1],\n",
              " [1, 0, 0, 0, 0, 0, 1, 1],\n",
              " [0, 1, 1, 1, 0, 0, 0, 0],\n",
              " [0, 1, 1, 0, 1, 0, 0, 0],\n",
              " [0, 1, 1, 0, 0, 1, 0, 0],\n",
              " [0, 1, 1, 0, 0, 0, 1, 0],\n",
              " [0, 1, 1, 0, 0, 0, 0, 1],\n",
              " [0, 1, 0, 1, 1, 0, 0, 0],\n",
              " [0, 1, 0, 1, 0, 1, 0, 0],\n",
              " [0, 1, 0, 1, 0, 0, 1, 0],\n",
              " [0, 1, 0, 1, 0, 0, 0, 1],\n",
              " [0, 1, 0, 0, 1, 1, 0, 0],\n",
              " [0, 1, 0, 0, 1, 0, 1, 0],\n",
              " [0, 1, 0, 0, 1, 0, 0, 1],\n",
              " [0, 1, 0, 0, 0, 1, 1, 0],\n",
              " [0, 1, 0, 0, 0, 1, 0, 1],\n",
              " [0, 1, 0, 0, 0, 0, 1, 1],\n",
              " [0, 0, 1, 1, 1, 0, 0, 0],\n",
              " [0, 0, 1, 1, 0, 1, 0, 0],\n",
              " [0, 0, 1, 1, 0, 0, 1, 0],\n",
              " [0, 0, 1, 1, 0, 0, 0, 1],\n",
              " [0, 0, 1, 0, 1, 1, 0, 0],\n",
              " [0, 0, 1, 0, 1, 0, 1, 0],\n",
              " [0, 0, 1, 0, 1, 0, 0, 1],\n",
              " [0, 0, 1, 0, 0, 1, 1, 0],\n",
              " [0, 0, 1, 0, 0, 1, 0, 1],\n",
              " [0, 0, 1, 0, 0, 0, 1, 1],\n",
              " [0, 0, 0, 1, 1, 1, 0, 0],\n",
              " [0, 0, 0, 1, 1, 0, 1, 0],\n",
              " [0, 0, 0, 1, 1, 0, 0, 1],\n",
              " [0, 0, 0, 1, 0, 1, 1, 0],\n",
              " [0, 0, 0, 1, 0, 1, 0, 1],\n",
              " [0, 0, 0, 1, 0, 0, 1, 1],\n",
              " [0, 0, 0, 0, 1, 1, 1, 0],\n",
              " [0, 0, 0, 0, 1, 1, 0, 1],\n",
              " [0, 0, 0, 0, 1, 0, 1, 1],\n",
              " [0, 0, 0, 0, 0, 1, 1, 1],\n",
              " [1, 1, 1, 1, 0, 0, 0, 0],\n",
              " [1, 1, 1, 0, 1, 0, 0, 0],\n",
              " [1, 1, 1, 0, 0, 1, 0, 0],\n",
              " [1, 1, 1, 0, 0, 0, 1, 0],\n",
              " [1, 1, 1, 0, 0, 0, 0, 1],\n",
              " [1, 1, 0, 1, 1, 0, 0, 0],\n",
              " [1, 1, 0, 1, 0, 1, 0, 0],\n",
              " [1, 1, 0, 1, 0, 0, 1, 0],\n",
              " [1, 1, 0, 1, 0, 0, 0, 1],\n",
              " [1, 1, 0, 0, 1, 1, 0, 0],\n",
              " [1, 1, 0, 0, 1, 0, 1, 0],\n",
              " [1, 1, 0, 0, 1, 0, 0, 1],\n",
              " [1, 1, 0, 0, 0, 1, 1, 0],\n",
              " [1, 1, 0, 0, 0, 1, 0, 1],\n",
              " [1, 1, 0, 0, 0, 0, 1, 1],\n",
              " [1, 0, 1, 1, 1, 0, 0, 0],\n",
              " [1, 0, 1, 1, 0, 1, 0, 0],\n",
              " [1, 0, 1, 1, 0, 0, 1, 0],\n",
              " [1, 0, 1, 1, 0, 0, 0, 1],\n",
              " [1, 0, 1, 0, 1, 1, 0, 0],\n",
              " [1, 0, 1, 0, 1, 0, 1, 0],\n",
              " [1, 0, 1, 0, 1, 0, 0, 1],\n",
              " [1, 0, 1, 0, 0, 1, 1, 0],\n",
              " [1, 0, 1, 0, 0, 1, 0, 1],\n",
              " [1, 0, 1, 0, 0, 0, 1, 1],\n",
              " [1, 0, 0, 1, 1, 1, 0, 0],\n",
              " [1, 0, 0, 1, 1, 0, 1, 0],\n",
              " [1, 0, 0, 1, 1, 0, 0, 1],\n",
              " [1, 0, 0, 1, 0, 1, 1, 0],\n",
              " [1, 0, 0, 1, 0, 1, 0, 1],\n",
              " [1, 0, 0, 1, 0, 0, 1, 1],\n",
              " [1, 0, 0, 0, 1, 1, 1, 0],\n",
              " [1, 0, 0, 0, 1, 1, 0, 1],\n",
              " [1, 0, 0, 0, 1, 0, 1, 1],\n",
              " [1, 0, 0, 0, 0, 1, 1, 1],\n",
              " [0, 1, 1, 1, 1, 0, 0, 0],\n",
              " [0, 1, 1, 1, 0, 1, 0, 0],\n",
              " [0, 1, 1, 1, 0, 0, 1, 0],\n",
              " [0, 1, 1, 1, 0, 0, 0, 1],\n",
              " [0, 1, 1, 0, 1, 1, 0, 0],\n",
              " [0, 1, 1, 0, 1, 0, 1, 0],\n",
              " [0, 1, 1, 0, 1, 0, 0, 1],\n",
              " [0, 1, 1, 0, 0, 1, 1, 0],\n",
              " [0, 1, 1, 0, 0, 1, 0, 1],\n",
              " [0, 1, 1, 0, 0, 0, 1, 1],\n",
              " [0, 1, 0, 1, 1, 1, 0, 0],\n",
              " [0, 1, 0, 1, 1, 0, 1, 0],\n",
              " [0, 1, 0, 1, 1, 0, 0, 1],\n",
              " [0, 1, 0, 1, 0, 1, 1, 0],\n",
              " [0, 1, 0, 1, 0, 1, 0, 1],\n",
              " [0, 1, 0, 1, 0, 0, 1, 1],\n",
              " [0, 1, 0, 0, 1, 1, 1, 0],\n",
              " [0, 1, 0, 0, 1, 1, 0, 1],\n",
              " [0, 1, 0, 0, 1, 0, 1, 1],\n",
              " [0, 1, 0, 0, 0, 1, 1, 1],\n",
              " [0, 0, 1, 1, 1, 1, 0, 0],\n",
              " [0, 0, 1, 1, 1, 0, 1, 0],\n",
              " [0, 0, 1, 1, 1, 0, 0, 1],\n",
              " [0, 0, 1, 1, 0, 1, 1, 0],\n",
              " [0, 0, 1, 1, 0, 1, 0, 1],\n",
              " [0, 0, 1, 1, 0, 0, 1, 1],\n",
              " [0, 0, 1, 0, 1, 1, 1, 0],\n",
              " [0, 0, 1, 0, 1, 1, 0, 1],\n",
              " [0, 0, 1, 0, 1, 0, 1, 1],\n",
              " [0, 0, 1, 0, 0, 1, 1, 1],\n",
              " [0, 0, 0, 1, 1, 1, 1, 0],\n",
              " [0, 0, 0, 1, 1, 1, 0, 1],\n",
              " [0, 0, 0, 1, 1, 0, 1, 1],\n",
              " [0, 0, 0, 1, 0, 1, 1, 1],\n",
              " [0, 0, 0, 0, 1, 1, 1, 1],\n",
              " [1, 1, 1, 1, 1, 0, 0, 0],\n",
              " [1, 1, 1, 1, 0, 1, 0, 0],\n",
              " [1, 1, 1, 1, 0, 0, 1, 0],\n",
              " [1, 1, 1, 1, 0, 0, 0, 1],\n",
              " [1, 1, 1, 0, 1, 1, 0, 0],\n",
              " [1, 1, 1, 0, 1, 0, 1, 0],\n",
              " [1, 1, 1, 0, 1, 0, 0, 1],\n",
              " [1, 1, 1, 0, 0, 1, 1, 0],\n",
              " [1, 1, 1, 0, 0, 1, 0, 1],\n",
              " [1, 1, 1, 0, 0, 0, 1, 1],\n",
              " [1, 1, 0, 1, 1, 1, 0, 0],\n",
              " [1, 1, 0, 1, 1, 0, 1, 0],\n",
              " [1, 1, 0, 1, 1, 0, 0, 1],\n",
              " [1, 1, 0, 1, 0, 1, 1, 0],\n",
              " [1, 1, 0, 1, 0, 1, 0, 1],\n",
              " [1, 1, 0, 1, 0, 0, 1, 1],\n",
              " [1, 1, 0, 0, 1, 1, 1, 0],\n",
              " [1, 1, 0, 0, 1, 1, 0, 1],\n",
              " [1, 1, 0, 0, 1, 0, 1, 1],\n",
              " [1, 1, 0, 0, 0, 1, 1, 1],\n",
              " [1, 0, 1, 1, 1, 1, 0, 0],\n",
              " [1, 0, 1, 1, 1, 0, 1, 0],\n",
              " [1, 0, 1, 1, 1, 0, 0, 1],\n",
              " [1, 0, 1, 1, 0, 1, 1, 0],\n",
              " [1, 0, 1, 1, 0, 1, 0, 1],\n",
              " [1, 0, 1, 1, 0, 0, 1, 1],\n",
              " [1, 0, 1, 0, 1, 1, 1, 0],\n",
              " [1, 0, 1, 0, 1, 1, 0, 1],\n",
              " [1, 0, 1, 0, 1, 0, 1, 1],\n",
              " [1, 0, 1, 0, 0, 1, 1, 1],\n",
              " [1, 0, 0, 1, 1, 1, 1, 0],\n",
              " [1, 0, 0, 1, 1, 1, 0, 1],\n",
              " [1, 0, 0, 1, 1, 0, 1, 1],\n",
              " [1, 0, 0, 1, 0, 1, 1, 1],\n",
              " [1, 0, 0, 0, 1, 1, 1, 1],\n",
              " [0, 1, 1, 1, 1, 1, 0, 0],\n",
              " [0, 1, 1, 1, 1, 0, 1, 0],\n",
              " [0, 1, 1, 1, 1, 0, 0, 1],\n",
              " [0, 1, 1, 1, 0, 1, 1, 0],\n",
              " [0, 1, 1, 1, 0, 1, 0, 1],\n",
              " [0, 1, 1, 1, 0, 0, 1, 1],\n",
              " [0, 1, 1, 0, 1, 1, 1, 0],\n",
              " [0, 1, 1, 0, 1, 1, 0, 1],\n",
              " [0, 1, 1, 0, 1, 0, 1, 1],\n",
              " [0, 1, 1, 0, 0, 1, 1, 1],\n",
              " [0, 1, 0, 1, 1, 1, 1, 0],\n",
              " [0, 1, 0, 1, 1, 1, 0, 1],\n",
              " [0, 1, 0, 1, 1, 0, 1, 1],\n",
              " [0, 1, 0, 1, 0, 1, 1, 1],\n",
              " [0, 1, 0, 0, 1, 1, 1, 1],\n",
              " [0, 0, 1, 1, 1, 1, 1, 0],\n",
              " [0, 0, 1, 1, 1, 1, 0, 1],\n",
              " [0, 0, 1, 1, 1, 0, 1, 1],\n",
              " [0, 0, 1, 1, 0, 1, 1, 1],\n",
              " [0, 0, 1, 0, 1, 1, 1, 1],\n",
              " [0, 0, 0, 1, 1, 1, 1, 1],\n",
              " [1, 1, 1, 1, 1, 1, 0, 0],\n",
              " [1, 1, 1, 1, 1, 0, 1, 0],\n",
              " [1, 1, 1, 1, 1, 0, 0, 1],\n",
              " [1, 1, 1, 1, 0, 1, 1, 0],\n",
              " [1, 1, 1, 1, 0, 1, 0, 1],\n",
              " [1, 1, 1, 1, 0, 0, 1, 1],\n",
              " [1, 1, 1, 0, 1, 1, 1, 0],\n",
              " [1, 1, 1, 0, 1, 1, 0, 1],\n",
              " [1, 1, 1, 0, 1, 0, 1, 1],\n",
              " [1, 1, 1, 0, 0, 1, 1, 1],\n",
              " [1, 1, 0, 1, 1, 1, 1, 0],\n",
              " [1, 1, 0, 1, 1, 1, 0, 1],\n",
              " [1, 1, 0, 1, 1, 0, 1, 1],\n",
              " [1, 1, 0, 1, 0, 1, 1, 1],\n",
              " [1, 1, 0, 0, 1, 1, 1, 1],\n",
              " [1, 0, 1, 1, 1, 1, 1, 0],\n",
              " [1, 0, 1, 1, 1, 1, 0, 1],\n",
              " [1, 0, 1, 1, 1, 0, 1, 1],\n",
              " [1, 0, 1, 1, 0, 1, 1, 1],\n",
              " [1, 0, 1, 0, 1, 1, 1, 1],\n",
              " [1, 0, 0, 1, 1, 1, 1, 1],\n",
              " [0, 1, 1, 1, 1, 1, 1, 0],\n",
              " [0, 1, 1, 1, 1, 1, 0, 1],\n",
              " [0, 1, 1, 1, 1, 0, 1, 1],\n",
              " [0, 1, 1, 1, 0, 1, 1, 1],\n",
              " [0, 1, 1, 0, 1, 1, 1, 1],\n",
              " [0, 1, 0, 1, 1, 1, 1, 1],\n",
              " [0, 0, 1, 1, 1, 1, 1, 1],\n",
              " [1, 1, 1, 1, 1, 1, 1, 0],\n",
              " [1, 1, 1, 1, 1, 1, 0, 1],\n",
              " [1, 1, 1, 1, 1, 0, 1, 1],\n",
              " [1, 1, 1, 1, 0, 1, 1, 1],\n",
              " [1, 1, 1, 0, 1, 1, 1, 1],\n",
              " [1, 1, 0, 1, 1, 1, 1, 1],\n",
              " [1, 0, 1, 1, 1, 1, 1, 1],\n",
              " [0, 1, 1, 1, 1, 1, 1, 1],\n",
              " [1, 1, 1, 1, 1, 1, 1, 1]]"
            ]
          },
          "metadata": {},
          "execution_count": 19
        }
      ],
      "source": [
        "selection_pop = [i for i in init_pop if fitness_func(features, i) >= 0.5]\n",
        "print('Strong generation(>=',str(pass_criteria)+') :', len(selection_pop))\n",
        "selection_pop"
      ]
    },
    {
      "source": [
        "<h2>Insert Selection Table"
      ],
      "cell_type": "markdown",
      "metadata": {}
    },
    {
      "cell_type": "code",
      "execution_count": 20,
      "metadata": {},
      "outputs": [
        {
          "output_type": "stream",
          "name": "stdout",
          "text": [
            "250 was inserted.\n"
          ]
        }
      ],
      "source": [
        "#insert selection_pop to db\n",
        "insert_sel_sql = 'insert into selection ('+columns+') values (%s, %s, %s, %s, %s, %s, %s, %s)'\n",
        "mycursor.executemany(insert_sel_sql, selection_pop)\n",
        "try:\n",
        "    mydb.commit()\n",
        "    print(mycursor.rowcount, 'was inserted.')\n",
        "except:\n",
        "    mydb.rollback()\n",
        "    print('rollbacked')"
      ]
    },
    {
      "source": [
        "<h1> Crossover"
      ],
      "cell_type": "markdown",
      "metadata": {}
    },
    {
      "cell_type": "code",
      "execution_count": 21,
      "metadata": {},
      "outputs": [],
      "source": [
        "#random pair of parent\n",
        "#random where to split the range of spliting withh be in range [round(2/8*len(features)), round(6/8*len(features))]"
      ]
    },
    {
      "cell_type": "code",
      "execution_count": 22,
      "metadata": {},
      "outputs": [],
      "source": [
        "def crossover(zeroOneList1, zeroOneList2, split_point):\n",
        "    \"\"\"\n",
        "    Crossover zeroOnelist\n",
        "    \"\"\"\n",
        "    return [\n",
        "        zeroOneList1[:split_point] + zeroOneList2[split_point:],\n",
        "        zeroOneList2[:split_point] + zeroOneList1[split_point:]\n",
        "    ]"
      ]
    },
    {
      "cell_type": "code",
      "execution_count": 23,
      "metadata": {},
      "outputs": [],
      "source": [
        "def np_crossover(np_zeroOneList1, np_zeroOneList2, split_point):\n",
        "    \"\"\"\n",
        "    Crossover numpy array zeroOnelist\n",
        "    support np array\n",
        "    \"\"\"\n",
        "    return np.array([\n",
        "        np.concatenate([np_zeroOneList1[:split_point], np_zeroOneList2[split_point:]]),\n",
        "        np.concatenate([np_zeroOneList2[:split_point], np_zeroOneList1[split_point:]])\n",
        "    ])"
      ]
    },
    {
      "cell_type": "code",
      "execution_count": 24,
      "metadata": {},
      "outputs": [
        {
          "output_type": "execute_result",
          "data": {
            "text/plain": [
              "250"
            ]
          },
          "metadata": {},
          "execution_count": 24
        }
      ],
      "source": [
        "len(selection_pop)"
      ]
    },
    {
      "cell_type": "code",
      "execution_count": 25,
      "metadata": {},
      "outputs": [
        {
          "output_type": "execute_result",
          "data": {
            "text/plain": [
              "5"
            ]
          },
          "metadata": {},
          "execution_count": 25
        }
      ],
      "source": [
        "split_point = random.randrange(round(0.3*len(features)), round(0.7*len(features)))\n",
        "split_point"
      ]
    },
    {
      "cell_type": "code",
      "execution_count": 30,
      "metadata": {},
      "outputs": [
        {
          "output_type": "stream",
          "name": "stdout",
          "text": [
            "256\nused time : 0.2910349369049072\n"
          ]
        },
        {
          "output_type": "execute_result",
          "data": {
            "text/plain": [
              "[[1, 1, 0, 0, 1, 0, 1, 0],\n",
              " [1, 0, 0, 1, 0, 1, 0, 1],\n",
              " [0, 1, 1, 1, 1, 1, 0, 1],\n",
              " [0, 1, 1, 1, 1, 0, 0, 1],\n",
              " [1, 0, 1, 1, 0, 1, 0, 1],\n",
              " [1, 1, 1, 1, 0, 0, 1, 0],\n",
              " [0, 0, 1, 1, 0, 1, 1, 0],\n",
              " [1, 1, 0, 1, 1, 1, 1, 0],\n",
              " [0, 0, 1, 1, 1, 1, 0, 1],\n",
              " [1, 0, 1, 0, 0, 0, 0, 1]]"
            ]
          },
          "metadata": {},
          "execution_count": 30
        }
      ],
      "source": [
        "#normal list\n",
        "import time\n",
        "start = time.time()\n",
        "\n",
        "crossover_pop = list()\n",
        "# selection_pop = np.array(selection_pop)\n",
        "# cross = list()\n",
        "for pop in selection_pop:\n",
        "    for p in selection_pop:\n",
        "        cross = crossover(pop, p, split_point)\n",
        "        crossover_pop.append(cross[0])\n",
        "        crossover_pop.append(cross[1])\n",
        "crossover_pop = list(set([str(i) for i in crossover_pop]))\n",
        "crossover_pop = [ast.literal_eval(i) for i in crossover_pop]\n",
        "# crossover_pop = [list(i) for i in np.unique(np.array(crossover_pop), axis=0)]\n",
        "print(len(crossover_pop))\n",
        "\n",
        "\n",
        "\n",
        "end = time.time()\n",
        "print('used time :', end - start)\n",
        "crossover_pop[:10]"
      ]
    },
    {
      "cell_type": "code",
      "execution_count": 25,
      "metadata": {},
      "outputs": [
        {
          "output_type": "stream",
          "name": "stdout",
          "text": [
            "even length\n"
          ]
        },
        {
          "output_type": "execute_result",
          "data": {
            "text/plain": [
              "[[0, 1, 0, 1, 0, 0, 1, 0],\n",
              " [0, 1, 0, 0, 0, 0, 1, 1],\n",
              " [1, 0, 0, 1, 1, 0, 1, 0],\n",
              " [0, 1, 0, 0, 0, 1, 0, 0],\n",
              " [1, 0, 1, 0, 1, 1, 0, 1],\n",
              " [0, 1, 1, 0, 1, 1, 0, 0],\n",
              " [0, 0, 1, 1, 1, 0, 0, 1],\n",
              " [0, 0, 0, 0, 1, 0, 0, 1],\n",
              " [0, 1, 1, 0, 1, 1, 0, 1],\n",
              " [1, 1, 0, 1, 0, 1, 0, 1]]"
            ]
          },
          "metadata": {},
          "execution_count": 25
        }
      ],
      "source": [
        "#match all population for all prob\n",
        "# TODO other except binary split\n",
        "\n",
        "# #shuffle list\n",
        "# random.shuffle(selection_pop)\n",
        "# #will pair by even and odd number\n",
        "# if len(selection_pop)%2 == 0: #len is even\n",
        "#     crossover_pop = [crossover(selection_pop[i], selection_pop[i+1], split_point) for i in range(len(selection_pop)) if i%2 == 0]\n",
        "#     print('even length')\n",
        "# else: #len is odd\n",
        "#     crossover_pop = [crossover(selection_pop[i], selection_pop[i+1], split_point) for i in range(len(selection_pop[:-1])) if i%2 == 0]\n",
        "#     crossover_pop.append(crossover(selection_pop[-2], selection_pop[-1], split_point))\n",
        "#     print('odd length')\n",
        "# crossover_pop[:10]"
      ]
    },
    {
      "source": [
        "<h2>Insert Crossover Table"
      ],
      "cell_type": "markdown",
      "metadata": {}
    },
    {
      "cell_type": "code",
      "execution_count": 31,
      "metadata": {},
      "outputs": [
        {
          "output_type": "stream",
          "name": "stdout",
          "text": [
            "256 was inserted.\n"
          ]
        }
      ],
      "source": [
        "#insert selection_pop to db\n",
        "insert_cross_sql = 'insert into crossover ('+columns+') values (%s, %s, %s, %s, %s, %s, %s, %s)'\n",
        "mycursor.executemany(insert_cross_sql, crossover_pop)\n",
        "try:\n",
        "    mydb.commit()\n",
        "    print(mycursor.rowcount, 'was inserted.')\n",
        "except:\n",
        "    mydb.rollback()\n",
        "    print('rollbacked')"
      ]
    },
    {
      "source": [
        "<h1> Mutation"
      ],
      "cell_type": "markdown",
      "metadata": {}
    },
    {
      "cell_type": "code",
      "execution_count": 32,
      "metadata": {},
      "outputs": [],
      "source": [
        "def mutation(zeroOneList, muta_bit_amount):\n",
        "    \"\"\"\n",
        "    Random flip bits of zeroOneList\n",
        "    \"\"\"\n",
        "    flip_index_bit = list()\n",
        "    while len(flip_index_bit) != muta_bit_amount:\n",
        "        index = random.randrange(8)\n",
        "        flip_index_bit.append(index)\n",
        "        flip_index_bit = list(set(flip_index_bit))\n",
        "        #got random bit index\n",
        "\n",
        "    for i in flip_index_bit:\n",
        "        if zeroOneList[i] == 1: #1\n",
        "            zeroOneList[i] = 0\n",
        "        else: # 0\n",
        "            zeroOneList[i] = 1\n",
        "    return zeroOneList"
      ]
    },
    {
      "cell_type": "code",
      "execution_count": 33,
      "metadata": {},
      "outputs": [
        {
          "output_type": "execute_result",
          "data": {
            "text/plain": [
              "1"
            ]
          },
          "metadata": {},
          "execution_count": 33
        }
      ],
      "source": [
        "#mutation rate = 0.3\n",
        "muta_bit_amount = random.randrange(1, round(len(features)*0.3+0.5))\n",
        "muta_bit_amount"
      ]
    },
    {
      "cell_type": "code",
      "execution_count": 34,
      "metadata": {},
      "outputs": [
        {
          "output_type": "stream",
          "name": "stdout",
          "text": [
            "256\n"
          ]
        },
        {
          "output_type": "execute_result",
          "data": {
            "text/plain": [
              "[[1, 1, 0, 0, 1, 0, 1, 1],\n",
              " [1, 0, 1, 1, 0, 1, 0, 1],\n",
              " [0, 1, 1, 0, 1, 1, 0, 1],\n",
              " [0, 1, 1, 1, 1, 0, 0, 0],\n",
              " [0, 0, 1, 1, 0, 1, 0, 1],\n",
              " [0, 1, 1, 1, 0, 0, 1, 0],\n",
              " [0, 1, 1, 1, 0, 1, 1, 0],\n",
              " [1, 1, 0, 0, 1, 1, 1, 0],\n",
              " [0, 0, 1, 1, 1, 1, 0, 0],\n",
              " [1, 1, 1, 0, 0, 0, 0, 1]]"
            ]
          },
          "metadata": {},
          "execution_count": 34
        }
      ],
      "source": [
        "mutation_pop = [mutation(i, muta_bit_amount) for i in crossover_pop]\n",
        "print(len(mutation_pop))\n",
        "mutation_pop[:10]"
      ]
    },
    {
      "source": [
        "<h2>Insert Mutation Table"
      ],
      "cell_type": "markdown",
      "metadata": {}
    },
    {
      "cell_type": "code",
      "execution_count": 35,
      "metadata": {},
      "outputs": [
        {
          "output_type": "stream",
          "name": "stdout",
          "text": [
            "256 was inserted.\n"
          ]
        }
      ],
      "source": [
        "#insert selection_pop to db\n",
        "insert_muta_sql = 'insert into mutation ('+columns+') values (%s, %s, %s, %s, %s, %s, %s, %s)'\n",
        "mycursor.executemany(insert_muta_sql, mutation_pop)\n",
        "try:\n",
        "    mydb.commit()\n",
        "    print(mycursor.rowcount, 'was inserted.')\n",
        "except:\n",
        "    mydb.rollback()\n",
        "    print('rollbacked')"
      ]
    },
    {
      "source": [
        "<h1>Evaluate the top Best 3/4 of Population"
      ],
      "cell_type": "markdown",
      "metadata": {}
    },
    {
      "cell_type": "code",
      "execution_count": 36,
      "metadata": {},
      "outputs": [
        {
          "output_type": "execute_result",
          "data": {
            "text/plain": [
              "[[1, 1, 0, 0, 1, 0, 1, 0],\n",
              " [1, 0, 0, 1, 0, 1, 0, 1],\n",
              " [0, 1, 1, 1, 1, 1, 0, 1],\n",
              " [0, 1, 1, 1, 1, 0, 0, 1],\n",
              " [1, 0, 1, 1, 0, 1, 0, 1],\n",
              " [1, 1, 1, 1, 0, 0, 1, 0],\n",
              " [0, 0, 1, 1, 0, 1, 1, 0],\n",
              " [1, 1, 0, 1, 1, 1, 1, 0],\n",
              " [0, 0, 1, 1, 1, 1, 0, 1],\n",
              " [1, 0, 1, 0, 0, 0, 0, 1]]"
            ]
          },
          "metadata": {},
          "execution_count": 36
        }
      ],
      "source": [
        "selection_crossover_mutation = selection_pop + crossover_pop + mutation_pop\n",
        "selection_crossover_mutation = list(set([str(i) for i in selection_crossover_mutation]))\n",
        "selection_crossover_mutation = [ast.literal_eval(i) for i in selection_crossover_mutation]\n",
        "selection_crossover_mutation[:10]"
      ]
    },
    {
      "cell_type": "code",
      "execution_count": 37,
      "metadata": {},
      "outputs": [
        {
          "output_type": "stream",
          "name": "stdout",
          "text": [
            "191\n"
          ]
        },
        {
          "output_type": "execute_result",
          "data": {
            "text/plain": [
              "[[0, 0, 1, 0, 0, 0, 0, 0],\n",
              " [0, 0, 1, 0, 0, 1, 0, 0],\n",
              " [0, 1, 1, 0, 0, 0, 0, 0],\n",
              " [0, 1, 1, 0, 0, 1, 0, 0],\n",
              " [0, 0, 0, 0, 0, 1, 0, 0],\n",
              " [0, 1, 0, 0, 0, 1, 0, 0],\n",
              " [0, 1, 0, 0, 0, 0, 0, 0],\n",
              " [0, 1, 1, 1, 0, 1, 0, 0],\n",
              " [0, 1, 1, 0, 0, 1, 1, 0],\n",
              " [1, 1, 1, 0, 0, 1, 0, 0],\n",
              " [0, 0, 1, 1, 0, 1, 0, 0],\n",
              " [0, 0, 1, 0, 0, 1, 1, 0],\n",
              " [0, 1, 1, 0, 0, 1, 0, 1],\n",
              " [1, 0, 1, 0, 0, 1, 0, 0],\n",
              " [0, 1, 1, 1, 0, 0, 0, 0],\n",
              " [0, 1, 1, 0, 0, 0, 1, 0],\n",
              " [1, 1, 1, 0, 0, 0, 0, 0],\n",
              " [0, 0, 1, 0, 0, 1, 0, 1],\n",
              " [0, 1, 0, 1, 0, 1, 0, 0],\n",
              " [0, 1, 1, 0, 0, 0, 0, 1],\n",
              " [0, 1, 0, 0, 0, 1, 1, 0],\n",
              " [0, 1, 1, 1, 0, 1, 1, 0],\n",
              " [0, 0, 1, 1, 0, 0, 0, 0],\n",
              " [1, 1, 1, 1, 0, 1, 0, 0],\n",
              " [1, 1, 0, 0, 0, 1, 0, 0],\n",
              " [1, 1, 1, 0, 0, 1, 1, 0],\n",
              " [0, 0, 1, 0, 0, 0, 1, 0],\n",
              " [0, 1, 1, 0, 1, 1, 0, 0],\n",
              " [0, 1, 1, 1, 0, 1, 0, 1],\n",
              " [1, 0, 1, 0, 0, 0, 0, 0],\n",
              " [0, 1, 1, 0, 0, 1, 1, 1],\n",
              " [1, 1, 1, 0, 0, 1, 0, 1],\n",
              " [0, 1, 0, 0, 0, 1, 0, 1],\n",
              " [0, 0, 1, 1, 0, 1, 1, 0],\n",
              " [1, 0, 1, 1, 0, 1, 0, 0],\n",
              " [1, 0, 1, 0, 0, 1, 1, 0],\n",
              " [0, 1, 1, 1, 0, 0, 1, 0],\n",
              " [1, 1, 1, 1, 0, 0, 0, 0],\n",
              " [1, 1, 1, 0, 0, 0, 1, 0],\n",
              " [1, 1, 1, 1, 0, 1, 1, 0],\n",
              " [0, 0, 0, 1, 0, 1, 0, 0],\n",
              " [0, 0, 1, 1, 0, 1, 0, 1],\n",
              " [0, 0, 1, 0, 0, 0, 0, 1],\n",
              " [0, 0, 1, 0, 0, 1, 1, 1],\n",
              " [0, 0, 1, 0, 1, 1, 0, 0],\n",
              " [0, 0, 0, 0, 0, 1, 1, 0],\n",
              " [1, 0, 1, 0, 0, 1, 0, 1],\n",
              " [0, 1, 1, 1, 0, 1, 1, 1],\n",
              " [0, 1, 1, 1, 0, 0, 0, 1],\n",
              " [0, 1, 1, 1, 1, 1, 0, 0],\n",
              " [1, 1, 1, 1, 0, 1, 0, 1],\n",
              " [0, 1, 0, 1, 0, 1, 1, 0],\n",
              " [0, 1, 1, 0, 1, 1, 1, 0],\n",
              " [0, 1, 1, 0, 0, 0, 1, 1],\n",
              " [1, 1, 1, 0, 0, 1, 1, 1],\n",
              " [1, 0, 0, 0, 0, 1, 0, 0],\n",
              " [1, 1, 0, 1, 0, 1, 0, 0],\n",
              " [1, 1, 1, 0, 1, 1, 0, 0],\n",
              " [1, 1, 1, 0, 0, 0, 0, 1],\n",
              " [0, 1, 1, 0, 1, 0, 0, 0],\n",
              " [0, 1, 0, 1, 0, 0, 0, 0],\n",
              " [1, 1, 0, 0, 0, 1, 1, 0],\n",
              " [0, 1, 0, 0, 0, 0, 1, 0],\n",
              " [0, 1, 1, 0, 1, 1, 0, 1],\n",
              " [1, 0, 1, 1, 0, 1, 1, 0],\n",
              " [0, 1, 0, 1, 0, 1, 0, 1],\n",
              " [1, 1, 0, 0, 0, 0, 0, 0],\n",
              " [0, 1, 0, 0, 0, 1, 1, 1],\n",
              " [1, 1, 1, 1, 0, 0, 1, 0],\n",
              " [1, 1, 0, 0, 0, 1, 0, 1],\n",
              " [1, 1, 1, 1, 0, 1, 1, 1],\n",
              " [0, 0, 1, 1, 0, 0, 1, 0],\n",
              " [0, 0, 1, 1, 0, 1, 1, 1],\n",
              " [0, 1, 1, 1, 1, 1, 1, 0],\n",
              " [0, 0, 0, 0, 0, 1, 0, 1],\n",
              " [1, 0, 1, 1, 0, 1, 0, 1],\n",
              " [1, 0, 1, 1, 0, 0, 0, 0],\n",
              " [1, 1, 1, 1, 1, 1, 0, 0],\n",
              " [0, 1, 0, 0, 1, 1, 0, 0],\n",
              " [1, 0, 1, 0, 0, 1, 1, 1],\n",
              " [1, 1, 1, 0, 1, 1, 1, 0],\n",
              " [0, 1, 1, 1, 0, 0, 1, 1],\n",
              " [1, 0, 1, 0, 0, 0, 1, 0],\n",
              " [0, 0, 1, 1, 1, 1, 0, 0],\n",
              " [1, 1, 1, 1, 0, 0, 0, 1],\n",
              " [1, 1, 0, 1, 0, 1, 1, 0],\n",
              " [1, 1, 1, 0, 0, 0, 1, 1],\n",
              " [0, 1, 1, 1, 1, 1, 0, 1],\n",
              " [0, 0, 1, 0, 1, 1, 1, 0],\n",
              " [0, 1, 1, 0, 1, 1, 1, 1],\n",
              " [1, 0, 1, 0, 1, 1, 0, 0],\n",
              " [1, 1, 1, 0, 1, 1, 0, 1],\n",
              " [0, 1, 1, 1, 1, 0, 0, 0],\n",
              " [0, 1, 0, 0, 0, 0, 0, 1],\n",
              " [0, 1, 1, 0, 1, 0, 1, 0],\n",
              " [0, 0, 1, 1, 0, 0, 0, 1],\n",
              " [0, 1, 0, 1, 0, 1, 1, 1],\n",
              " [1, 1, 1, 0, 1, 0, 0, 0],\n",
              " [1, 1, 1, 1, 1, 1, 1, 0],\n",
              " [0, 0, 0, 1, 0, 1, 1, 0],\n",
              " [1, 1, 0, 1, 0, 1, 0, 1],\n",
              " [0, 0, 1, 0, 0, 0, 1, 1],\n",
              " [1, 0, 1, 1, 0, 1, 1, 1],\n",
              " [1, 1, 0, 0, 0, 1, 1, 1],\n",
              " [1, 0, 0, 1, 0, 1, 0, 0],\n",
              " [0, 0, 1, 0, 1, 1, 0, 1],\n",
              " [1, 0, 1, 0, 0, 0, 0, 1],\n",
              " [0, 1, 1, 1, 1, 1, 1, 1],\n",
              " [1, 1, 1, 1, 0, 0, 1, 1],\n",
              " [1, 0, 0, 0, 0, 1, 1, 0],\n",
              " [1, 1, 1, 1, 1, 1, 0, 1],\n",
              " [0, 1, 0, 1, 0, 0, 1, 0],\n",
              " [1, 1, 1, 0, 1, 1, 1, 1],\n",
              " [0, 1, 0, 1, 1, 1, 0, 0],\n",
              " [0, 0, 1, 1, 1, 1, 1, 0],\n",
              " [0, 1, 1, 0, 1, 0, 0, 1],\n",
              " [1, 1, 0, 1, 0, 0, 0, 0],\n",
              " [1, 0, 1, 1, 0, 0, 1, 0],\n",
              " [1, 0, 1, 1, 1, 1, 0, 0],\n",
              " [0, 1, 0, 0, 1, 1, 1, 0],\n",
              " [1, 0, 1, 0, 1, 1, 1, 0],\n",
              " [1, 1, 0, 0, 1, 1, 0, 0],\n",
              " [0, 1, 1, 1, 1, 0, 1, 0],\n",
              " [1, 1, 0, 0, 0, 0, 1, 0],\n",
              " [1, 1, 0, 1, 0, 1, 1, 1],\n",
              " [1, 1, 1, 1, 1, 0, 0, 0],\n",
              " [0, 0, 0, 1, 0, 1, 0, 1],\n",
              " [1, 1, 1, 1, 1, 1, 1, 1],\n",
              " [1, 1, 1, 0, 1, 0, 1, 0],\n",
              " [0, 0, 1, 1, 1, 1, 0, 1],\n",
              " [0, 0, 0, 0, 0, 1, 1, 1],\n",
              " [0, 0, 1, 1, 0, 0, 1, 1],\n",
              " [0, 0, 1, 0, 1, 1, 1, 1],\n",
              " [1, 0, 0, 0, 0, 1, 0, 1],\n",
              " [1, 0, 1, 0, 1, 1, 0, 1],\n",
              " [1, 0, 1, 1, 0, 0, 0, 1],\n",
              " [0, 0, 1, 0, 1, 0, 0, 0],\n",
              " [0, 1, 0, 0, 1, 1, 0, 1],\n",
              " [0, 1, 1, 1, 1, 0, 0, 1],\n",
              " [0, 1, 0, 1, 0, 0, 0, 1],\n",
              " [1, 0, 1, 1, 1, 1, 1, 0],\n",
              " [1, 0, 0, 1, 0, 1, 1, 0],\n",
              " [0, 1, 0, 1, 1, 1, 1, 0],\n",
              " [1, 0, 1, 0, 0, 0, 1, 1],\n",
              " [0, 1, 1, 0, 1, 0, 1, 1],\n",
              " [1, 1, 0, 1, 1, 1, 0, 0],\n",
              " [1, 1, 1, 0, 1, 0, 0, 1],\n",
              " [0, 1, 0, 0, 0, 0, 1, 1],\n",
              " [1, 1, 1, 1, 1, 0, 1, 0],\n",
              " [1, 1, 0, 0, 1, 1, 1, 0],\n",
              " [1, 1, 0, 0, 0, 0, 0, 1],\n",
              " [1, 1, 0, 1, 0, 0, 1, 0],\n",
              " [0, 0, 1, 1, 1, 1, 1, 1],\n",
              " [1, 0, 1, 1, 1, 1, 0, 1],\n",
              " [1, 0, 1, 0, 1, 1, 1, 1],\n",
              " [0, 0, 0, 1, 0, 1, 1, 1],\n",
              " [0, 1, 1, 1, 1, 0, 1, 1],\n",
              " [0, 1, 0, 1, 1, 1, 0, 1],\n",
              " [1, 1, 1, 1, 1, 0, 0, 1],\n",
              " [1, 0, 1, 1, 0, 0, 1, 1],\n",
              " [1, 0, 0, 1, 0, 1, 0, 1],\n",
              " [0, 1, 0, 0, 1, 1, 1, 1],\n",
              " [1, 1, 0, 1, 1, 1, 1, 0],\n",
              " [1, 1, 1, 0, 1, 0, 1, 1],\n",
              " [1, 1, 0, 0, 1, 1, 0, 1],\n",
              " [1, 0, 0, 0, 0, 1, 1, 1],\n",
              " [1, 0, 1, 1, 1, 1, 1, 1],\n",
              " [0, 1, 0, 1, 0, 0, 1, 1],\n",
              " [0, 0, 1, 1, 1, 0, 0, 0],\n",
              " [1, 1, 0, 1, 0, 0, 0, 1],\n",
              " [1, 1, 1, 1, 1, 0, 1, 1],\n",
              " [0, 1, 0, 1, 1, 1, 1, 1],\n",
              " [0, 0, 1, 0, 1, 0, 1, 0],\n",
              " [1, 1, 0, 0, 0, 0, 1, 1],\n",
              " [1, 1, 0, 1, 1, 1, 0, 1],\n",
              " [1, 1, 0, 0, 1, 1, 1, 1],\n",
              " [1, 0, 0, 1, 0, 1, 1, 1],\n",
              " [1, 0, 1, 0, 1, 0, 0, 0],\n",
              " [0, 0, 0, 0, 1, 1, 0, 0],\n",
              " [1, 1, 0, 1, 1, 1, 1, 1],\n",
              " [1, 1, 0, 1, 0, 0, 1, 1],\n",
              " [0, 0, 1, 1, 1, 0, 1, 0],\n",
              " [1, 0, 1, 1, 1, 0, 0, 0],\n",
              " [1, 0, 1, 0, 1, 0, 1, 0],\n",
              " [0, 0, 0, 1, 1, 1, 0, 0],\n",
              " [0, 0, 1, 0, 1, 0, 0, 1],\n",
              " [0, 1, 0, 0, 1, 0, 0, 0],\n",
              " [1, 0, 1, 1, 1, 0, 1, 0],\n",
              " [0, 0, 0, 0, 1, 1, 1, 0],\n",
              " [0, 0, 1, 1, 1, 0, 0, 1],\n",
              " [1, 0, 0, 0, 1, 1, 0, 0]]"
            ]
          },
          "metadata": {},
          "execution_count": 37
        }
      ],
      "source": [
        "scm_dict = dict()\n",
        "for i in selection_crossover_mutation:\n",
        "    scm_dict[str(i)] = fitness_func(features=features, zeroOneList=i)\n",
        "#top 75% of all pop\n",
        "top_75_chromosome = [ast.literal_eval(i[0]) for i in sorted(scm_dict.items(), key=lambda x: x[1], reverse=True)[:round(0.75*(len(selection_crossover_mutation)))]]\n",
        "del scm_dict\n",
        "print(len(top_75_chromosome))\n",
        "top_75_chromosome"
      ]
    }
  ]
}