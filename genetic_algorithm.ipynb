{
  "nbformat": 4,
  "nbformat_minor": 0,
  "metadata": {
    "colab": {
      "name": "genetic-algorithm.ipynb",
      "provenance": [],
      "collapsed_sections": [],
      "authorship_tag": "ABX9TyO5wi0fBwGckaaEoPmhUhTc",
      "include_colab_link": true
    },
    "kernelspec": {
      "name": "python3",
      "display_name": "Python 3",
      "language": "python"
    }
  },
  "cells": [
    {
      "cell_type": "markdown",
      "metadata": {
        "id": "view-in-github",
        "colab_type": "text"
      },
      "source": [
        "<a href=\"https://colab.research.google.com/github/tintinap/Genetic-Algorithm/blob/main/genetic_algorithm.ipynb\" target=\"_parent\"><img src=\"https://colab.research.google.com/assets/colab-badge.svg\" alt=\"Open In Colab\"/></a>"
      ]
    },
    {
      "cell_type": "code",
      "metadata": {
        "id": "cihZWWKShaBV"
      },
      "source": [
        "from itertools import combinations\n",
        "import pandas as pd\n",
        "import numpy as np\n",
        "import random\n",
        "import ast\n",
        "\n",
        "import mysql.connector"
      ],
      "execution_count": 1,
      "outputs": []
    },
    {
      "cell_type": "code",
      "metadata": {
        "colab": {
          "base_uri": "https://localhost:8080/",
          "height": 204
        },
        "id": "kVHVzgfNhpER",
        "outputId": "e5c9e936-c9ee-47cc-dd4f-9ad65c057923"
      },
      "source": [
        "url = 'https://github.com/tintinap/Genetic-Algorithm/blob/main/dataset/diabetes.csv?raw=true'\n",
        "# # https://github.com/tintinap/Genetic-Algorithm/blob/main/dataset/diabetes.csv\n",
        "# drive = '/content/drive/MyDrive/ClassRoom/Machine learning/dataset/diabetes.csv'\n",
        "df = pd.read_csv(url)\n",
        "df.head()"
      ],
      "execution_count": 2,
      "outputs": [
        {
          "output_type": "execute_result",
          "data": {
            "text/plain": [
              "   Pregnancies  Glucose  BloodPressure  SkinThickness  Insulin   BMI  \\\n",
              "0            6      148             72             35        0  33.6   \n",
              "1            1       85             66             29        0  26.6   \n",
              "2            8      183             64              0        0  23.3   \n",
              "3            1       89             66             23       94  28.1   \n",
              "4            0      137             40             35      168  43.1   \n",
              "\n",
              "   DiabetesPedigreeFunction  Age  Outcome  \n",
              "0                     0.627   50        1  \n",
              "1                     0.351   31        0  \n",
              "2                     0.672   32        1  \n",
              "3                     0.167   21        0  \n",
              "4                     2.288   33        1  "
            ],
            "text/html": "<div>\n<style scoped>\n    .dataframe tbody tr th:only-of-type {\n        vertical-align: middle;\n    }\n\n    .dataframe tbody tr th {\n        vertical-align: top;\n    }\n\n    .dataframe thead th {\n        text-align: right;\n    }\n</style>\n<table border=\"1\" class=\"dataframe\">\n  <thead>\n    <tr style=\"text-align: right;\">\n      <th></th>\n      <th>Pregnancies</th>\n      <th>Glucose</th>\n      <th>BloodPressure</th>\n      <th>SkinThickness</th>\n      <th>Insulin</th>\n      <th>BMI</th>\n      <th>DiabetesPedigreeFunction</th>\n      <th>Age</th>\n      <th>Outcome</th>\n    </tr>\n  </thead>\n  <tbody>\n    <tr>\n      <td>0</td>\n      <td>6</td>\n      <td>148</td>\n      <td>72</td>\n      <td>35</td>\n      <td>0</td>\n      <td>33.6</td>\n      <td>0.627</td>\n      <td>50</td>\n      <td>1</td>\n    </tr>\n    <tr>\n      <td>1</td>\n      <td>1</td>\n      <td>85</td>\n      <td>66</td>\n      <td>29</td>\n      <td>0</td>\n      <td>26.6</td>\n      <td>0.351</td>\n      <td>31</td>\n      <td>0</td>\n    </tr>\n    <tr>\n      <td>2</td>\n      <td>8</td>\n      <td>183</td>\n      <td>64</td>\n      <td>0</td>\n      <td>0</td>\n      <td>23.3</td>\n      <td>0.672</td>\n      <td>32</td>\n      <td>1</td>\n    </tr>\n    <tr>\n      <td>3</td>\n      <td>1</td>\n      <td>89</td>\n      <td>66</td>\n      <td>23</td>\n      <td>94</td>\n      <td>28.1</td>\n      <td>0.167</td>\n      <td>21</td>\n      <td>0</td>\n    </tr>\n    <tr>\n      <td>4</td>\n      <td>0</td>\n      <td>137</td>\n      <td>40</td>\n      <td>35</td>\n      <td>168</td>\n      <td>43.1</td>\n      <td>2.288</td>\n      <td>33</td>\n      <td>1</td>\n    </tr>\n  </tbody>\n</table>\n</div>"
          },
          "metadata": {},
          "execution_count": 2
        }
      ]
    },
    {
      "cell_type": "code",
      "metadata": {
        "colab": {
          "base_uri": "https://localhost:8080/"
        },
        "id": "-zVEHSPokSYm",
        "outputId": "13970401-5b7b-4f6a-c328-d1f785626a91"
      },
      "source": [
        "features = df.columns.tolist()[0:-1]\n",
        "features"
      ],
      "execution_count": 3,
      "outputs": [
        {
          "output_type": "execute_result",
          "data": {
            "text/plain": [
              "['Pregnancies',\n",
              " 'Glucose',\n",
              " 'BloodPressure',\n",
              " 'SkinThickness',\n",
              " 'Insulin',\n",
              " 'BMI',\n",
              " 'DiabetesPedigreeFunction',\n",
              " 'Age']"
            ]
          },
          "metadata": {},
          "execution_count": 3
        }
      ]
    },
    {
      "cell_type": "code",
      "execution_count": 4,
      "metadata": {},
      "outputs": [
        {
          "output_type": "execute_result",
          "data": {
            "text/plain": [
              "   Pregnancies   Glucose  BloodPressure  SkinThickness   Insulin       BMI  \\\n",
              "0     0.352941  0.743719       0.590164       0.353535  0.000000  0.500745   \n",
              "1     0.058824  0.427136       0.540984       0.292929  0.000000  0.396423   \n",
              "2     0.470588  0.919598       0.524590       0.000000  0.000000  0.347243   \n",
              "3     0.058824  0.447236       0.540984       0.232323  0.111111  0.418778   \n",
              "4     0.000000  0.688442       0.327869       0.353535  0.198582  0.642325   \n",
              "\n",
              "   DiabetesPedigreeFunction       Age  \n",
              "0                  0.234415  0.483333  \n",
              "1                  0.116567  0.166667  \n",
              "2                  0.253629  0.183333  \n",
              "3                  0.038002  0.000000  \n",
              "4                  0.943638  0.200000  "
            ],
            "text/html": "<div>\n<style scoped>\n    .dataframe tbody tr th:only-of-type {\n        vertical-align: middle;\n    }\n\n    .dataframe tbody tr th {\n        vertical-align: top;\n    }\n\n    .dataframe thead th {\n        text-align: right;\n    }\n</style>\n<table border=\"1\" class=\"dataframe\">\n  <thead>\n    <tr style=\"text-align: right;\">\n      <th></th>\n      <th>Pregnancies</th>\n      <th>Glucose</th>\n      <th>BloodPressure</th>\n      <th>SkinThickness</th>\n      <th>Insulin</th>\n      <th>BMI</th>\n      <th>DiabetesPedigreeFunction</th>\n      <th>Age</th>\n    </tr>\n  </thead>\n  <tbody>\n    <tr>\n      <td>0</td>\n      <td>0.352941</td>\n      <td>0.743719</td>\n      <td>0.590164</td>\n      <td>0.353535</td>\n      <td>0.000000</td>\n      <td>0.500745</td>\n      <td>0.234415</td>\n      <td>0.483333</td>\n    </tr>\n    <tr>\n      <td>1</td>\n      <td>0.058824</td>\n      <td>0.427136</td>\n      <td>0.540984</td>\n      <td>0.292929</td>\n      <td>0.000000</td>\n      <td>0.396423</td>\n      <td>0.116567</td>\n      <td>0.166667</td>\n    </tr>\n    <tr>\n      <td>2</td>\n      <td>0.470588</td>\n      <td>0.919598</td>\n      <td>0.524590</td>\n      <td>0.000000</td>\n      <td>0.000000</td>\n      <td>0.347243</td>\n      <td>0.253629</td>\n      <td>0.183333</td>\n    </tr>\n    <tr>\n      <td>3</td>\n      <td>0.058824</td>\n      <td>0.447236</td>\n      <td>0.540984</td>\n      <td>0.232323</td>\n      <td>0.111111</td>\n      <td>0.418778</td>\n      <td>0.038002</td>\n      <td>0.000000</td>\n    </tr>\n    <tr>\n      <td>4</td>\n      <td>0.000000</td>\n      <td>0.688442</td>\n      <td>0.327869</td>\n      <td>0.353535</td>\n      <td>0.198582</td>\n      <td>0.642325</td>\n      <td>0.943638</td>\n      <td>0.200000</td>\n    </tr>\n  </tbody>\n</table>\n</div>"
          },
          "metadata": {},
          "execution_count": 4
        }
      ],
      "source": [
        "X = df[features]\n",
        "label = 'Outcome'\n",
        "y = df[label]\n",
        "\n",
        "# normalize\n",
        "X = X.apply(lambda x: (x - x.min()) / (x.max() - x.min()))\n",
        "X.head()"
      ]
    },
    {
      "source": [
        "<h1> Fitness Function"
      ],
      "cell_type": "markdown",
      "metadata": {}
    },
    {
      "source": [
        "<h2> Manhattan Score Table"
      ],
      "cell_type": "markdown",
      "metadata": {}
    },
    {
      "cell_type": "code",
      "execution_count": 5,
      "metadata": {},
      "outputs": [
        {
          "output_type": "execute_result",
          "data": {
            "text/plain": [
              "         Pregnancies   Glucose  BloodPressure  SkinThickness   Insulin  \\\n",
              "Outcome     0.537556  0.658338        0.69739       0.547161  0.452641   \n",
              "\n",
              "              BMI  DiabetesPedigreeFunction       Age  \n",
              "Outcome  0.670003                  0.541908  0.518116  "
            ],
            "text/html": "<div>\n<style scoped>\n    .dataframe tbody tr th:only-of-type {\n        vertical-align: middle;\n    }\n\n    .dataframe tbody tr th {\n        vertical-align: top;\n    }\n\n    .dataframe thead th {\n        text-align: right;\n    }\n</style>\n<table border=\"1\" class=\"dataframe\">\n  <thead>\n    <tr style=\"text-align: right;\">\n      <th></th>\n      <th>Pregnancies</th>\n      <th>Glucose</th>\n      <th>BloodPressure</th>\n      <th>SkinThickness</th>\n      <th>Insulin</th>\n      <th>BMI</th>\n      <th>DiabetesPedigreeFunction</th>\n      <th>Age</th>\n    </tr>\n  </thead>\n  <tbody>\n    <tr>\n      <td>Outcome</td>\n      <td>0.537556</td>\n      <td>0.658338</td>\n      <td>0.69739</td>\n      <td>0.547161</td>\n      <td>0.452641</td>\n      <td>0.670003</td>\n      <td>0.541908</td>\n      <td>0.518116</td>\n    </tr>\n  </tbody>\n</table>\n</div>"
          },
          "metadata": {},
          "execution_count": 5
        }
      ],
      "source": [
        "df_md = {'Outcome': []}\n",
        "\n",
        "for f in features:\n",
        "    df_md['Outcome'].append(np.mean([np.sqrt(abs(a[0]-a[1])) for a in zip(X[f], y)]))\n",
        "\n",
        "df_md = pd.DataFrame.from_dict(df_md)\n",
        "df_md.index = features\n",
        "df_md.T"
      ]
    },
    {
      "source": [
        "<h1>Function Tools"
      ],
      "cell_type": "markdown",
      "metadata": {}
    },
    {
      "cell_type": "code",
      "execution_count": 6,
      "metadata": {},
      "outputs": [],
      "source": [
        "def convertZeroOne(features, zeroOneList):\n",
        "    \"\"\"\n",
        "    convert list of 0 and 1 to be list of string feature\n",
        "    \"\"\"\n",
        "    return [features[i] for i in range(len(zeroOneList)) if zeroOneList[i] == 1]"
      ]
    },
    {
      "source": [
        "<h1>Set up db"
      ],
      "cell_type": "markdown",
      "metadata": {}
    },
    {
      "cell_type": "code",
      "execution_count": 7,
      "metadata": {},
      "outputs": [],
      "source": [
        "def checkTableExists(dbcon, tablename):\n",
        "    dbcur = dbcon.cursor()\n",
        "    dbcur.execute(\"\"\"\n",
        "        SELECT COUNT(*)\n",
        "        FROM information_schema.tables\n",
        "        WHERE table_name = '{0}'\n",
        "        \"\"\".format(tablename.replace('\\'', '\\'\\'')))\n",
        "    if dbcur.fetchone()[0] == 1:\n",
        "        dbcur.close()\n",
        "        return True\n",
        "\n",
        "    dbcur.close()\n",
        "    return False"
      ]
    },
    {
      "cell_type": "code",
      "execution_count": 8,
      "metadata": {},
      "outputs": [],
      "source": [
        "def createTable(dbcon, tablename, create_sql):\n",
        "    if checkTableExists(dbcon, tablename):\n",
        "        mycursor.execute('drop TABLE', tablename)      \n",
        "    mycursor.execute(create_sql)\n"
      ]
    },
    {
      "cell_type": "code",
      "execution_count": 9,
      "metadata": {},
      "outputs": [
        {
          "output_type": "stream",
          "name": "stdout",
          "text": [
            "<mysql.connector.connection_cext.CMySQLConnection object at 0x00000233BC4F1248>\n"
          ]
        }
      ],
      "source": [
        "mydb = mysql.connector.connect(\n",
        "  host=\"localhost\",\n",
        "  user=\"admin\",\n",
        "  password=\"admin\",\n",
        "  database='ml_db'\n",
        ")\n",
        "mycursor = mydb.cursor(buffered=True)\n",
        "\n",
        "print(mydb)"
      ]
    },
    {
      "cell_type": "code",
      "execution_count": 10,
      "metadata": {},
      "outputs": [
        {
          "output_type": "stream",
          "name": "stdout",
          "text": [
            "population created\n",
            "selection created\n",
            "crossover created\n",
            "mutation created\n"
          ]
        }
      ],
      "source": [
        "#population\n",
        "population_create_sql = 'create table POPULATION ('+ \\\n",
        "                features[0]+ ' int(1) ,'+ \\\n",
        "                features[1]+ ' int(1) ,'+ \\\n",
        "                features[2]+ ' int(1) ,'+ \\\n",
        "                features[3]+ ' int(1) ,'+ \\\n",
        "                features[4]+ ' int(1) ,'+ \\\n",
        "                features[5]+ ' int(1) ,'+ \\\n",
        "                features[6]+ ' int(1) ,'+ \\\n",
        "                features[7]+ ' int(1) '+');'\n",
        "try:\n",
        "    createTable(mydb, 'population', population_create_sql)\n",
        "    print('population created')\n",
        "except:\n",
        "    mycursor.execute('drop table population')\n",
        "    createTable(mydb, 'population', population_create_sql)\n",
        "    print('population created')\n",
        "\n",
        "#selection\n",
        "selection_create_sql = 'create table selection ('+ \\\n",
        "                features[0]+ ' int(1) ,'+ \\\n",
        "                features[1]+ ' int(1) ,'+ \\\n",
        "                features[2]+ ' int(1) ,'+ \\\n",
        "                features[3]+ ' int(1) ,'+ \\\n",
        "                features[4]+ ' int(1) ,'+ \\\n",
        "                features[5]+ ' int(1) ,'+ \\\n",
        "                features[6]+ ' int(1) ,'+ \\\n",
        "                features[7]+ ' int(1) '+');'\n",
        "try:\n",
        "    createTable(mydb, 'selection', selection_create_sql)\n",
        "    print('selection created')\n",
        "except:\n",
        "    mycursor.execute('drop table selection')\n",
        "    createTable(mydb, 'selection', selection_create_sql)\n",
        "    print('selection created')\n",
        "\n",
        "#crossover\n",
        "crossover_create_sql = 'create table crossover ('+ \\\n",
        "                features[0]+ ' int(1) ,'+ \\\n",
        "                features[1]+ ' int(1) ,'+ \\\n",
        "                features[2]+ ' int(1) ,'+ \\\n",
        "                features[3]+ ' int(1) ,'+ \\\n",
        "                features[4]+ ' int(1) ,'+ \\\n",
        "                features[5]+ ' int(1) ,'+ \\\n",
        "                features[6]+ ' int(1) ,'+ \\\n",
        "                features[7]+ ' int(1) '+');'\n",
        "try:\n",
        "    createTable(mydb, 'crossover', crossover_create_sql)\n",
        "    print('crossover created')\n",
        "except:\n",
        "    mycursor.execute('drop table crossover')\n",
        "    createTable(mydb, 'crossover', crossover_create_sql)\n",
        "    print('crossover created')\n",
        "\n",
        "#mutation\n",
        "mutation_create_sql = 'create table mutation ('+ \\\n",
        "                features[0]+ ' int(1) ,'+ \\\n",
        "                features[1]+ ' int(1) ,'+ \\\n",
        "                features[2]+ ' int(1) ,'+ \\\n",
        "                features[3]+ ' int(1) ,'+ \\\n",
        "                features[4]+ ' int(1) ,'+ \\\n",
        "                features[5]+ ' int(1) ,'+ \\\n",
        "                features[6]+ ' int(1) ,'+ \\\n",
        "                features[7]+ ' int(1) '+');'\n",
        "try:\n",
        "    createTable(mydb, 'mutation', mutation_create_sql)\n",
        "    print('mutation created')\n",
        "except:\n",
        "    mycursor.execute('drop table mutation')\n",
        "    createTable(mydb, 'mutation', mutation_create_sql)\n",
        "    print('mutation created')"
      ]
    },
    {
      "source": [
        "<h1> Initialise Population"
      ],
      "cell_type": "markdown",
      "metadata": {}
    },
    {
      "cell_type": "code",
      "metadata": {
        "colab": {
          "base_uri": "https://localhost:8080/"
        },
        "id": "GwXVF1Cqklz1",
        "outputId": "0a4dc701-73c7-4ff9-bf32-47cce2f90aad"
      },
      "source": [
        "# from compiler.ast import flatten\n",
        "all_population = [list(combinations(features, i)) for i in range(1, len(features)+1)]\n",
        "temp = list()\n",
        "for lst in all_population:\n",
        "    temp.extend(lst)\n",
        "all_population = temp\n",
        "\n",
        "all_population[:10]"
      ],
      "execution_count": 11,
      "outputs": [
        {
          "output_type": "execute_result",
          "data": {
            "text/plain": [
              "[('Pregnancies',),\n",
              " ('Glucose',),\n",
              " ('BloodPressure',),\n",
              " ('SkinThickness',),\n",
              " ('Insulin',),\n",
              " ('BMI',),\n",
              " ('DiabetesPedigreeFunction',),\n",
              " ('Age',),\n",
              " ('Pregnancies', 'Glucose'),\n",
              " ('Pregnancies', 'BloodPressure')]"
            ]
          },
          "metadata": {},
          "execution_count": 11
        }
      ]
    },
    {
      "cell_type": "code",
      "metadata": {
        "colab": {
          "base_uri": "https://localhost:8080/"
        },
        "id": "OEL5omPfnHtQ",
        "outputId": "f7c57311-1e7d-414d-b918-ee40b13da121"
      },
      "source": [
        "len(all_population)"
      ],
      "execution_count": 12,
      "outputs": [
        {
          "output_type": "execute_result",
          "data": {
            "text/plain": [
              "255"
            ]
          },
          "metadata": {},
          "execution_count": 12
        }
      ]
    },
    {
      "cell_type": "code",
      "metadata": {
        "colab": {
          "base_uri": "https://localhost:8080/"
        },
        "id": "7nrhqZN3n2Ge",
        "outputId": "6038a59b-2666-4686-a2db-648153286090"
      },
      "source": [
        "init_pop = list()\n",
        "eight_zeros = [0, 0, 0, 0, 0, 0, 0, 0]\n",
        "\n",
        "for pop in all_population:\n",
        "    for attr in pop:\n",
        "        eight_zeros[features.index(attr)] = 1\n",
        "    init_pop.append(eight_zeros)\n",
        "    eight_zeros = [0, 0, 0, 0, 0, 0, 0, 0]\n",
        "init_pop[:10]"
      ],
      "execution_count": 13,
      "outputs": [
        {
          "output_type": "execute_result",
          "data": {
            "text/plain": [
              "[[1, 0, 0, 0, 0, 0, 0, 0],\n",
              " [0, 1, 0, 0, 0, 0, 0, 0],\n",
              " [0, 0, 1, 0, 0, 0, 0, 0],\n",
              " [0, 0, 0, 1, 0, 0, 0, 0],\n",
              " [0, 0, 0, 0, 1, 0, 0, 0],\n",
              " [0, 0, 0, 0, 0, 1, 0, 0],\n",
              " [0, 0, 0, 0, 0, 0, 1, 0],\n",
              " [0, 0, 0, 0, 0, 0, 0, 1],\n",
              " [1, 1, 0, 0, 0, 0, 0, 0],\n",
              " [1, 0, 1, 0, 0, 0, 0, 0]]"
            ]
          },
          "metadata": {},
          "execution_count": 13
        }
      ]
    },
    {
      "cell_type": "code",
      "execution_count": 14,
      "metadata": {},
      "outputs": [
        {
          "output_type": "execute_result",
          "data": {
            "text/plain": [
              "'Pregnancies, Glucose, BloodPressure, SkinThickness, Insulin, BMI, DiabetesPedigreeFunction, Age'"
            ]
          },
          "metadata": {},
          "execution_count": 14
        }
      ],
      "source": [
        "columns = str(features).replace('[', '').replace(']', '').replace(\"'\", '')\n",
        "columns"
      ]
    },
    {
      "cell_type": "code",
      "metadata": {
        "colab": {
          "base_uri": "https://localhost:8080/"
        },
        "id": "IKK4FTXVqFBH",
        "outputId": "2cb0b5a4-b138-4206-80ad-8d301a8bb824"
      },
      "source": [
        "len(init_pop)"
      ],
      "execution_count": 15,
      "outputs": [
        {
          "output_type": "execute_result",
          "data": {
            "text/plain": [
              "255"
            ]
          },
          "metadata": {},
          "execution_count": 15
        }
      ]
    },
    {
      "source": [
        "<h2>Insert Population Table"
      ],
      "cell_type": "markdown",
      "metadata": {}
    },
    {
      "cell_type": "code",
      "metadata": {
        "id": "PFOCuEr8q5o3"
      },
      "source": [
        "#insert init_pop to db\n",
        "insert_pop_sql = 'insert into population ('+columns+') values (%s, %s, %s, %s, %s, %s, %s, %s)'\n",
        "mycursor.executemany(insert_pop_sql, init_pop)\n",
        "try:\n",
        "    mydb.commit()\n",
        "    print(mycursor.rowcount, 'was inserted.')\n",
        "except:\n",
        "    mydb.rollback()\n",
        "    print('rollbacked')"
      ],
      "execution_count": 16,
      "outputs": [
        {
          "output_type": "stream",
          "name": "stdout",
          "text": [
            "255 was inserted.\n"
          ]
        }
      ]
    },
    {
      "source": [
        "<h1> Evaluate and Selection"
      ],
      "cell_type": "markdown",
      "metadata": {}
    },
    {
      "cell_type": "code",
      "execution_count": 17,
      "metadata": {},
      "outputs": [
        {
          "output_type": "execute_result",
          "data": {
            "text/plain": [
              "0.5"
            ]
          },
          "metadata": {},
          "execution_count": 17
        }
      ],
      "source": [
        "#get top 3/4 selection population\n",
        "#the criteria to pass to the next gen is 0.5 bcuz the max value is 1 after the normalization\n",
        "pass_criteria = 0.5\n",
        "pass_criteria"
      ]
    },
    {
      "cell_type": "code",
      "execution_count": 18,
      "metadata": {},
      "outputs": [],
      "source": [
        "history_fitness_funct = dict() # dict of zeroOneList and its score that have been used fitness_func\n",
        "def fitness_func(features, zeroOneList):\n",
        "    \"\"\"\n",
        "    mean of mahattan distance of all selected features\n",
        "    \"\"\"\n",
        "    if str(zeroOneList) in history_fitness_funct:\n",
        "        return history_fitness_funct[str(zeroOneList)]\n",
        "\n",
        "    if zeroOneList == [0, 0, 0, 0, 0, 0, 0, 0]:\n",
        "        return 0\n",
        "\n",
        "    history_fitness_funct[str(zeroOneList)] = np.mean([df_md.T[f] for f in convertZeroOne(features, zeroOneList)])\n",
        "    return history_fitness_funct[str(zeroOneList)]\n"
      ]
    },
    {
      "cell_type": "code",
      "execution_count": 19,
      "metadata": {},
      "outputs": [
        {
          "output_type": "stream",
          "name": "stdout",
          "text": [
            "Strong generation(>= 0.5) : 250\n"
          ]
        },
        {
          "output_type": "execute_result",
          "data": {
            "text/plain": [
              "[[1, 0, 0, 0, 0, 0, 0, 0],\n",
              " [0, 1, 0, 0, 0, 0, 0, 0],\n",
              " [0, 0, 1, 0, 0, 0, 0, 0],\n",
              " [0, 0, 0, 1, 0, 0, 0, 0],\n",
              " [0, 0, 0, 0, 0, 1, 0, 0],\n",
              " [0, 0, 0, 0, 0, 0, 1, 0],\n",
              " [0, 0, 0, 0, 0, 0, 0, 1],\n",
              " [1, 1, 0, 0, 0, 0, 0, 0],\n",
              " [1, 0, 1, 0, 0, 0, 0, 0],\n",
              " [1, 0, 0, 1, 0, 0, 0, 0],\n",
              " [1, 0, 0, 0, 0, 1, 0, 0],\n",
              " [1, 0, 0, 0, 0, 0, 1, 0],\n",
              " [1, 0, 0, 0, 0, 0, 0, 1],\n",
              " [0, 1, 1, 0, 0, 0, 0, 0],\n",
              " [0, 1, 0, 1, 0, 0, 0, 0],\n",
              " [0, 1, 0, 0, 1, 0, 0, 0],\n",
              " [0, 1, 0, 0, 0, 1, 0, 0],\n",
              " [0, 1, 0, 0, 0, 0, 1, 0],\n",
              " [0, 1, 0, 0, 0, 0, 0, 1],\n",
              " [0, 0, 1, 1, 0, 0, 0, 0],\n",
              " [0, 0, 1, 0, 1, 0, 0, 0],\n",
              " [0, 0, 1, 0, 0, 1, 0, 0],\n",
              " [0, 0, 1, 0, 0, 0, 1, 0],\n",
              " [0, 0, 1, 0, 0, 0, 0, 1],\n",
              " [0, 0, 0, 1, 0, 1, 0, 0],\n",
              " [0, 0, 0, 1, 0, 0, 1, 0],\n",
              " [0, 0, 0, 1, 0, 0, 0, 1],\n",
              " [0, 0, 0, 0, 1, 1, 0, 0],\n",
              " [0, 0, 0, 0, 0, 1, 1, 0],\n",
              " [0, 0, 0, 0, 0, 1, 0, 1],\n",
              " [0, 0, 0, 0, 0, 0, 1, 1],\n",
              " [1, 1, 1, 0, 0, 0, 0, 0],\n",
              " [1, 1, 0, 1, 0, 0, 0, 0],\n",
              " [1, 1, 0, 0, 1, 0, 0, 0],\n",
              " [1, 1, 0, 0, 0, 1, 0, 0],\n",
              " [1, 1, 0, 0, 0, 0, 1, 0],\n",
              " [1, 1, 0, 0, 0, 0, 0, 1],\n",
              " [1, 0, 1, 1, 0, 0, 0, 0],\n",
              " [1, 0, 1, 0, 1, 0, 0, 0],\n",
              " [1, 0, 1, 0, 0, 1, 0, 0],\n",
              " [1, 0, 1, 0, 0, 0, 1, 0],\n",
              " [1, 0, 1, 0, 0, 0, 0, 1],\n",
              " [1, 0, 0, 1, 1, 0, 0, 0],\n",
              " [1, 0, 0, 1, 0, 1, 0, 0],\n",
              " [1, 0, 0, 1, 0, 0, 1, 0],\n",
              " [1, 0, 0, 1, 0, 0, 0, 1],\n",
              " [1, 0, 0, 0, 1, 1, 0, 0],\n",
              " [1, 0, 0, 0, 1, 0, 1, 0],\n",
              " [1, 0, 0, 0, 1, 0, 0, 1],\n",
              " [1, 0, 0, 0, 0, 1, 1, 0],\n",
              " [1, 0, 0, 0, 0, 1, 0, 1],\n",
              " [1, 0, 0, 0, 0, 0, 1, 1],\n",
              " [0, 1, 1, 1, 0, 0, 0, 0],\n",
              " [0, 1, 1, 0, 1, 0, 0, 0],\n",
              " [0, 1, 1, 0, 0, 1, 0, 0],\n",
              " [0, 1, 1, 0, 0, 0, 1, 0],\n",
              " [0, 1, 1, 0, 0, 0, 0, 1],\n",
              " [0, 1, 0, 1, 1, 0, 0, 0],\n",
              " [0, 1, 0, 1, 0, 1, 0, 0],\n",
              " [0, 1, 0, 1, 0, 0, 1, 0],\n",
              " [0, 1, 0, 1, 0, 0, 0, 1],\n",
              " [0, 1, 0, 0, 1, 1, 0, 0],\n",
              " [0, 1, 0, 0, 1, 0, 1, 0],\n",
              " [0, 1, 0, 0, 1, 0, 0, 1],\n",
              " [0, 1, 0, 0, 0, 1, 1, 0],\n",
              " [0, 1, 0, 0, 0, 1, 0, 1],\n",
              " [0, 1, 0, 0, 0, 0, 1, 1],\n",
              " [0, 0, 1, 1, 1, 0, 0, 0],\n",
              " [0, 0, 1, 1, 0, 1, 0, 0],\n",
              " [0, 0, 1, 1, 0, 0, 1, 0],\n",
              " [0, 0, 1, 1, 0, 0, 0, 1],\n",
              " [0, 0, 1, 0, 1, 1, 0, 0],\n",
              " [0, 0, 1, 0, 1, 0, 1, 0],\n",
              " [0, 0, 1, 0, 1, 0, 0, 1],\n",
              " [0, 0, 1, 0, 0, 1, 1, 0],\n",
              " [0, 0, 1, 0, 0, 1, 0, 1],\n",
              " [0, 0, 1, 0, 0, 0, 1, 1],\n",
              " [0, 0, 0, 1, 1, 1, 0, 0],\n",
              " [0, 0, 0, 1, 1, 0, 1, 0],\n",
              " [0, 0, 0, 1, 1, 0, 0, 1],\n",
              " [0, 0, 0, 1, 0, 1, 1, 0],\n",
              " [0, 0, 0, 1, 0, 1, 0, 1],\n",
              " [0, 0, 0, 1, 0, 0, 1, 1],\n",
              " [0, 0, 0, 0, 1, 1, 1, 0],\n",
              " [0, 0, 0, 0, 1, 1, 0, 1],\n",
              " [0, 0, 0, 0, 1, 0, 1, 1],\n",
              " [0, 0, 0, 0, 0, 1, 1, 1],\n",
              " [1, 1, 1, 1, 0, 0, 0, 0],\n",
              " [1, 1, 1, 0, 1, 0, 0, 0],\n",
              " [1, 1, 1, 0, 0, 1, 0, 0],\n",
              " [1, 1, 1, 0, 0, 0, 1, 0],\n",
              " [1, 1, 1, 0, 0, 0, 0, 1],\n",
              " [1, 1, 0, 1, 1, 0, 0, 0],\n",
              " [1, 1, 0, 1, 0, 1, 0, 0],\n",
              " [1, 1, 0, 1, 0, 0, 1, 0],\n",
              " [1, 1, 0, 1, 0, 0, 0, 1],\n",
              " [1, 1, 0, 0, 1, 1, 0, 0],\n",
              " [1, 1, 0, 0, 1, 0, 1, 0],\n",
              " [1, 1, 0, 0, 1, 0, 0, 1],\n",
              " [1, 1, 0, 0, 0, 1, 1, 0],\n",
              " [1, 1, 0, 0, 0, 1, 0, 1],\n",
              " [1, 1, 0, 0, 0, 0, 1, 1],\n",
              " [1, 0, 1, 1, 1, 0, 0, 0],\n",
              " [1, 0, 1, 1, 0, 1, 0, 0],\n",
              " [1, 0, 1, 1, 0, 0, 1, 0],\n",
              " [1, 0, 1, 1, 0, 0, 0, 1],\n",
              " [1, 0, 1, 0, 1, 1, 0, 0],\n",
              " [1, 0, 1, 0, 1, 0, 1, 0],\n",
              " [1, 0, 1, 0, 1, 0, 0, 1],\n",
              " [1, 0, 1, 0, 0, 1, 1, 0],\n",
              " [1, 0, 1, 0, 0, 1, 0, 1],\n",
              " [1, 0, 1, 0, 0, 0, 1, 1],\n",
              " [1, 0, 0, 1, 1, 1, 0, 0],\n",
              " [1, 0, 0, 1, 1, 0, 1, 0],\n",
              " [1, 0, 0, 1, 1, 0, 0, 1],\n",
              " [1, 0, 0, 1, 0, 1, 1, 0],\n",
              " [1, 0, 0, 1, 0, 1, 0, 1],\n",
              " [1, 0, 0, 1, 0, 0, 1, 1],\n",
              " [1, 0, 0, 0, 1, 1, 1, 0],\n",
              " [1, 0, 0, 0, 1, 1, 0, 1],\n",
              " [1, 0, 0, 0, 1, 0, 1, 1],\n",
              " [1, 0, 0, 0, 0, 1, 1, 1],\n",
              " [0, 1, 1, 1, 1, 0, 0, 0],\n",
              " [0, 1, 1, 1, 0, 1, 0, 0],\n",
              " [0, 1, 1, 1, 0, 0, 1, 0],\n",
              " [0, 1, 1, 1, 0, 0, 0, 1],\n",
              " [0, 1, 1, 0, 1, 1, 0, 0],\n",
              " [0, 1, 1, 0, 1, 0, 1, 0],\n",
              " [0, 1, 1, 0, 1, 0, 0, 1],\n",
              " [0, 1, 1, 0, 0, 1, 1, 0],\n",
              " [0, 1, 1, 0, 0, 1, 0, 1],\n",
              " [0, 1, 1, 0, 0, 0, 1, 1],\n",
              " [0, 1, 0, 1, 1, 1, 0, 0],\n",
              " [0, 1, 0, 1, 1, 0, 1, 0],\n",
              " [0, 1, 0, 1, 1, 0, 0, 1],\n",
              " [0, 1, 0, 1, 0, 1, 1, 0],\n",
              " [0, 1, 0, 1, 0, 1, 0, 1],\n",
              " [0, 1, 0, 1, 0, 0, 1, 1],\n",
              " [0, 1, 0, 0, 1, 1, 1, 0],\n",
              " [0, 1, 0, 0, 1, 1, 0, 1],\n",
              " [0, 1, 0, 0, 1, 0, 1, 1],\n",
              " [0, 1, 0, 0, 0, 1, 1, 1],\n",
              " [0, 0, 1, 1, 1, 1, 0, 0],\n",
              " [0, 0, 1, 1, 1, 0, 1, 0],\n",
              " [0, 0, 1, 1, 1, 0, 0, 1],\n",
              " [0, 0, 1, 1, 0, 1, 1, 0],\n",
              " [0, 0, 1, 1, 0, 1, 0, 1],\n",
              " [0, 0, 1, 1, 0, 0, 1, 1],\n",
              " [0, 0, 1, 0, 1, 1, 1, 0],\n",
              " [0, 0, 1, 0, 1, 1, 0, 1],\n",
              " [0, 0, 1, 0, 1, 0, 1, 1],\n",
              " [0, 0, 1, 0, 0, 1, 1, 1],\n",
              " [0, 0, 0, 1, 1, 1, 1, 0],\n",
              " [0, 0, 0, 1, 1, 1, 0, 1],\n",
              " [0, 0, 0, 1, 1, 0, 1, 1],\n",
              " [0, 0, 0, 1, 0, 1, 1, 1],\n",
              " [0, 0, 0, 0, 1, 1, 1, 1],\n",
              " [1, 1, 1, 1, 1, 0, 0, 0],\n",
              " [1, 1, 1, 1, 0, 1, 0, 0],\n",
              " [1, 1, 1, 1, 0, 0, 1, 0],\n",
              " [1, 1, 1, 1, 0, 0, 0, 1],\n",
              " [1, 1, 1, 0, 1, 1, 0, 0],\n",
              " [1, 1, 1, 0, 1, 0, 1, 0],\n",
              " [1, 1, 1, 0, 1, 0, 0, 1],\n",
              " [1, 1, 1, 0, 0, 1, 1, 0],\n",
              " [1, 1, 1, 0, 0, 1, 0, 1],\n",
              " [1, 1, 1, 0, 0, 0, 1, 1],\n",
              " [1, 1, 0, 1, 1, 1, 0, 0],\n",
              " [1, 1, 0, 1, 1, 0, 1, 0],\n",
              " [1, 1, 0, 1, 1, 0, 0, 1],\n",
              " [1, 1, 0, 1, 0, 1, 1, 0],\n",
              " [1, 1, 0, 1, 0, 1, 0, 1],\n",
              " [1, 1, 0, 1, 0, 0, 1, 1],\n",
              " [1, 1, 0, 0, 1, 1, 1, 0],\n",
              " [1, 1, 0, 0, 1, 1, 0, 1],\n",
              " [1, 1, 0, 0, 1, 0, 1, 1],\n",
              " [1, 1, 0, 0, 0, 1, 1, 1],\n",
              " [1, 0, 1, 1, 1, 1, 0, 0],\n",
              " [1, 0, 1, 1, 1, 0, 1, 0],\n",
              " [1, 0, 1, 1, 1, 0, 0, 1],\n",
              " [1, 0, 1, 1, 0, 1, 1, 0],\n",
              " [1, 0, 1, 1, 0, 1, 0, 1],\n",
              " [1, 0, 1, 1, 0, 0, 1, 1],\n",
              " [1, 0, 1, 0, 1, 1, 1, 0],\n",
              " [1, 0, 1, 0, 1, 1, 0, 1],\n",
              " [1, 0, 1, 0, 1, 0, 1, 1],\n",
              " [1, 0, 1, 0, 0, 1, 1, 1],\n",
              " [1, 0, 0, 1, 1, 1, 1, 0],\n",
              " [1, 0, 0, 1, 1, 1, 0, 1],\n",
              " [1, 0, 0, 1, 1, 0, 1, 1],\n",
              " [1, 0, 0, 1, 0, 1, 1, 1],\n",
              " [1, 0, 0, 0, 1, 1, 1, 1],\n",
              " [0, 1, 1, 1, 1, 1, 0, 0],\n",
              " [0, 1, 1, 1, 1, 0, 1, 0],\n",
              " [0, 1, 1, 1, 1, 0, 0, 1],\n",
              " [0, 1, 1, 1, 0, 1, 1, 0],\n",
              " [0, 1, 1, 1, 0, 1, 0, 1],\n",
              " [0, 1, 1, 1, 0, 0, 1, 1],\n",
              " [0, 1, 1, 0, 1, 1, 1, 0],\n",
              " [0, 1, 1, 0, 1, 1, 0, 1],\n",
              " [0, 1, 1, 0, 1, 0, 1, 1],\n",
              " [0, 1, 1, 0, 0, 1, 1, 1],\n",
              " [0, 1, 0, 1, 1, 1, 1, 0],\n",
              " [0, 1, 0, 1, 1, 1, 0, 1],\n",
              " [0, 1, 0, 1, 1, 0, 1, 1],\n",
              " [0, 1, 0, 1, 0, 1, 1, 1],\n",
              " [0, 1, 0, 0, 1, 1, 1, 1],\n",
              " [0, 0, 1, 1, 1, 1, 1, 0],\n",
              " [0, 0, 1, 1, 1, 1, 0, 1],\n",
              " [0, 0, 1, 1, 1, 0, 1, 1],\n",
              " [0, 0, 1, 1, 0, 1, 1, 1],\n",
              " [0, 0, 1, 0, 1, 1, 1, 1],\n",
              " [0, 0, 0, 1, 1, 1, 1, 1],\n",
              " [1, 1, 1, 1, 1, 1, 0, 0],\n",
              " [1, 1, 1, 1, 1, 0, 1, 0],\n",
              " [1, 1, 1, 1, 1, 0, 0, 1],\n",
              " [1, 1, 1, 1, 0, 1, 1, 0],\n",
              " [1, 1, 1, 1, 0, 1, 0, 1],\n",
              " [1, 1, 1, 1, 0, 0, 1, 1],\n",
              " [1, 1, 1, 0, 1, 1, 1, 0],\n",
              " [1, 1, 1, 0, 1, 1, 0, 1],\n",
              " [1, 1, 1, 0, 1, 0, 1, 1],\n",
              " [1, 1, 1, 0, 0, 1, 1, 1],\n",
              " [1, 1, 0, 1, 1, 1, 1, 0],\n",
              " [1, 1, 0, 1, 1, 1, 0, 1],\n",
              " [1, 1, 0, 1, 1, 0, 1, 1],\n",
              " [1, 1, 0, 1, 0, 1, 1, 1],\n",
              " [1, 1, 0, 0, 1, 1, 1, 1],\n",
              " [1, 0, 1, 1, 1, 1, 1, 0],\n",
              " [1, 0, 1, 1, 1, 1, 0, 1],\n",
              " [1, 0, 1, 1, 1, 0, 1, 1],\n",
              " [1, 0, 1, 1, 0, 1, 1, 1],\n",
              " [1, 0, 1, 0, 1, 1, 1, 1],\n",
              " [1, 0, 0, 1, 1, 1, 1, 1],\n",
              " [0, 1, 1, 1, 1, 1, 1, 0],\n",
              " [0, 1, 1, 1, 1, 1, 0, 1],\n",
              " [0, 1, 1, 1, 1, 0, 1, 1],\n",
              " [0, 1, 1, 1, 0, 1, 1, 1],\n",
              " [0, 1, 1, 0, 1, 1, 1, 1],\n",
              " [0, 1, 0, 1, 1, 1, 1, 1],\n",
              " [0, 0, 1, 1, 1, 1, 1, 1],\n",
              " [1, 1, 1, 1, 1, 1, 1, 0],\n",
              " [1, 1, 1, 1, 1, 1, 0, 1],\n",
              " [1, 1, 1, 1, 1, 0, 1, 1],\n",
              " [1, 1, 1, 1, 0, 1, 1, 1],\n",
              " [1, 1, 1, 0, 1, 1, 1, 1],\n",
              " [1, 1, 0, 1, 1, 1, 1, 1],\n",
              " [1, 0, 1, 1, 1, 1, 1, 1],\n",
              " [0, 1, 1, 1, 1, 1, 1, 1],\n",
              " [1, 1, 1, 1, 1, 1, 1, 1]]"
            ]
          },
          "metadata": {},
          "execution_count": 19
        }
      ],
      "source": [
        "selection_pop = [i for i in init_pop if fitness_func(features, i) >= 0.5]\n",
        "print('Strong generation(>=',str(pass_criteria)+') :', len(selection_pop))\n",
        "selection_pop"
      ]
    },
    {
      "source": [
        "<h2>Insert Selection Table"
      ],
      "cell_type": "markdown",
      "metadata": {}
    },
    {
      "cell_type": "code",
      "execution_count": 20,
      "metadata": {},
      "outputs": [
        {
          "output_type": "stream",
          "name": "stdout",
          "text": [
            "250 was inserted.\n"
          ]
        }
      ],
      "source": [
        "#insert selection_pop to db\n",
        "insert_sel_sql = 'insert into selection ('+columns+') values (%s, %s, %s, %s, %s, %s, %s, %s)'\n",
        "mycursor.executemany(insert_sel_sql, selection_pop)\n",
        "try:\n",
        "    mydb.commit()\n",
        "    print(mycursor.rowcount, 'was inserted.')\n",
        "except:\n",
        "    mydb.rollback()\n",
        "    print('rollbacked')"
      ]
    },
    {
      "source": [
        "<h1> Crossover"
      ],
      "cell_type": "markdown",
      "metadata": {}
    },
    {
      "cell_type": "code",
      "execution_count": 21,
      "metadata": {},
      "outputs": [],
      "source": [
        "#random pair of parent\n",
        "#random where to split the range of spliting withh be in range [round(2/8*len(features)), round(6/8*len(features))]"
      ]
    },
    {
      "cell_type": "code",
      "execution_count": 22,
      "metadata": {},
      "outputs": [],
      "source": [
        "def crossover(zeroOneList1, zeroOneList2, split_point):\n",
        "    \"\"\"\n",
        "    Crossover zeroOnelist\n",
        "    \"\"\"\n",
        "    return [\n",
        "        zeroOneList1[:split_point] + zeroOneList2[split_point:],\n",
        "        zeroOneList2[:split_point] + zeroOneList1[split_point:]\n",
        "    ]"
      ]
    },
    {
      "cell_type": "code",
      "execution_count": 23,
      "metadata": {},
      "outputs": [],
      "source": [
        "def np_crossover(np_zeroOneList1, np_zeroOneList2, split_point):\n",
        "    \"\"\"\n",
        "    Crossover numpy array zeroOnelist\n",
        "    support np array\n",
        "    \"\"\"\n",
        "    return np.array([\n",
        "        np.concatenate([np_zeroOneList1[:split_point], np_zeroOneList2[split_point:]]),\n",
        "        np.concatenate([np_zeroOneList2[:split_point], np_zeroOneList1[split_point:]])\n",
        "    ])"
      ]
    },
    {
      "cell_type": "code",
      "execution_count": 24,
      "metadata": {},
      "outputs": [
        {
          "output_type": "execute_result",
          "data": {
            "text/plain": [
              "250"
            ]
          },
          "metadata": {},
          "execution_count": 24
        }
      ],
      "source": [
        "len(selection_pop)"
      ]
    },
    {
      "cell_type": "code",
      "execution_count": 25,
      "metadata": {},
      "outputs": [
        {
          "output_type": "execute_result",
          "data": {
            "text/plain": [
              "5"
            ]
          },
          "metadata": {},
          "execution_count": 25
        }
      ],
      "source": [
        "split_point = random.randrange(round(0.3*len(features)), round(0.7*len(features)))\n",
        "split_point"
      ]
    },
    {
      "cell_type": "code",
      "execution_count": 30,
      "metadata": {},
      "outputs": [
        {
          "output_type": "stream",
          "name": "stdout",
          "text": [
            "256\nused time : 0.2910349369049072\n"
          ]
        },
        {
          "output_type": "execute_result",
          "data": {
            "text/plain": [
              "[[1, 1, 0, 0, 1, 0, 1, 0],\n",
              " [1, 0, 0, 1, 0, 1, 0, 1],\n",
              " [0, 1, 1, 1, 1, 1, 0, 1],\n",
              " [0, 1, 1, 1, 1, 0, 0, 1],\n",
              " [1, 0, 1, 1, 0, 1, 0, 1],\n",
              " [1, 1, 1, 1, 0, 0, 1, 0],\n",
              " [0, 0, 1, 1, 0, 1, 1, 0],\n",
              " [1, 1, 0, 1, 1, 1, 1, 0],\n",
              " [0, 0, 1, 1, 1, 1, 0, 1],\n",
              " [1, 0, 1, 0, 0, 0, 0, 1]]"
            ]
          },
          "metadata": {},
          "execution_count": 30
        }
      ],
      "source": [
        "#normal list\n",
        "import time\n",
        "start = time.time()\n",
        "\n",
        "crossover_pop = list()\n",
        "# selection_pop = np.array(selection_pop)\n",
        "# cross = list()\n",
        "for pop in selection_pop:\n",
        "    for p in selection_pop:\n",
        "        cross = crossover(pop, p, split_point)\n",
        "        crossover_pop.append(cross[0])\n",
        "        crossover_pop.append(cross[1])\n",
        "crossover_pop = list(set([str(i) for i in crossover_pop]))\n",
        "crossover_pop = [ast.literal_eval(i) for i in crossover_pop]\n",
        "# crossover_pop = [list(i) for i in np.unique(np.array(crossover_pop), axis=0)]\n",
        "print(len(crossover_pop))\n",
        "\n",
        "\n",
        "\n",
        "end = time.time()\n",
        "print('used time :', end - start)\n",
        "crossover_pop[:10]"
      ]
    },
    {
      "cell_type": "code",
      "execution_count": 25,
      "metadata": {},
      "outputs": [
        {
          "output_type": "stream",
          "name": "stdout",
          "text": [
            "even length\n"
          ]
        },
        {
          "output_type": "execute_result",
          "data": {
            "text/plain": [
              "[[0, 1, 0, 1, 0, 0, 1, 0],\n",
              " [0, 1, 0, 0, 0, 0, 1, 1],\n",
              " [1, 0, 0, 1, 1, 0, 1, 0],\n",
              " [0, 1, 0, 0, 0, 1, 0, 0],\n",
              " [1, 0, 1, 0, 1, 1, 0, 1],\n",
              " [0, 1, 1, 0, 1, 1, 0, 0],\n",
              " [0, 0, 1, 1, 1, 0, 0, 1],\n",
              " [0, 0, 0, 0, 1, 0, 0, 1],\n",
              " [0, 1, 1, 0, 1, 1, 0, 1],\n",
              " [1, 1, 0, 1, 0, 1, 0, 1]]"
            ]
          },
          "metadata": {},
          "execution_count": 25
        }
      ],
      "source": [
        "#match all population for all prob\n",
        "# TODO other except binary split\n",
        "\n",
        "# #shuffle list\n",
        "# random.shuffle(selection_pop)\n",
        "# #will pair by even and odd number\n",
        "# if len(selection_pop)%2 == 0: #len is even\n",
        "#     crossover_pop = [crossover(selection_pop[i], selection_pop[i+1], split_point) for i in range(len(selection_pop)) if i%2 == 0]\n",
        "#     print('even length')\n",
        "# else: #len is odd\n",
        "#     crossover_pop = [crossover(selection_pop[i], selection_pop[i+1], split_point) for i in range(len(selection_pop[:-1])) if i%2 == 0]\n",
        "#     crossover_pop.append(crossover(selection_pop[-2], selection_pop[-1], split_point))\n",
        "#     print('odd length')\n",
        "# crossover_pop[:10]"
      ]
    },
    {
      "source": [
        "<h2>Insert Crossover Table"
      ],
      "cell_type": "markdown",
      "metadata": {}
    },
    {
      "cell_type": "code",
      "execution_count": 31,
      "metadata": {},
      "outputs": [
        {
          "output_type": "stream",
          "name": "stdout",
          "text": [
            "256 was inserted.\n"
          ]
        }
      ],
      "source": [
        "#insert selection_pop to db\n",
        "insert_cross_sql = 'insert into crossover ('+columns+') values (%s, %s, %s, %s, %s, %s, %s, %s)'\n",
        "mycursor.executemany(insert_cross_sql, crossover_pop)\n",
        "try:\n",
        "    mydb.commit()\n",
        "    print(mycursor.rowcount, 'was inserted.')\n",
        "except:\n",
        "    mydb.rollback()\n",
        "    print('rollbacked')"
      ]
    },
    {
      "source": [
        "<h1> Mutation"
      ],
      "cell_type": "markdown",
      "metadata": {}
    },
    {
      "cell_type": "code",
      "execution_count": 32,
      "metadata": {},
      "outputs": [],
      "source": [
        "def mutation(zeroOneList, muta_bit_amount):\n",
        "    \"\"\"\n",
        "    Random flip bits of zeroOneList\n",
        "    \"\"\"\n",
        "    flip_index_bit = list()\n",
        "    while len(flip_index_bit) != muta_bit_amount:\n",
        "        index = random.randrange(8)\n",
        "        flip_index_bit.append(index)\n",
        "        flip_index_bit = list(set(flip_index_bit))\n",
        "        #got random bit index\n",
        "\n",
        "    for i in flip_index_bit:\n",
        "        if zeroOneList[i] == 1: #1\n",
        "            zeroOneList[i] = 0\n",
        "        else: # 0\n",
        "            zeroOneList[i] = 1\n",
        "    return zeroOneList"
      ]
    },
    {
      "cell_type": "code",
      "execution_count": 33,
      "metadata": {},
      "outputs": [
        {
          "output_type": "execute_result",
          "data": {
            "text/plain": [
              "1"
            ]
          },
          "metadata": {},
          "execution_count": 33
        }
      ],
      "source": [
        "#mutation rate = 0.3\n",
        "muta_bit_amount = random.randrange(1, round(len(features)*0.3+0.5))\n",
        "muta_bit_amount"
      ]
    },
    {
      "cell_type": "code",
      "execution_count": 34,
      "metadata": {},
      "outputs": [
        {
          "output_type": "stream",
          "name": "stdout",
          "text": [
            "256\n"
          ]
        },
        {
          "output_type": "execute_result",
          "data": {
            "text/plain": [
              "[[1, 1, 0, 0, 1, 0, 1, 1],\n",
              " [1, 0, 1, 1, 0, 1, 0, 1],\n",
              " [0, 1, 1, 0, 1, 1, 0, 1],\n",
              " [0, 1, 1, 1, 1, 0, 0, 0],\n",
              " [0, 0, 1, 1, 0, 1, 0, 1],\n",
              " [0, 1, 1, 1, 0, 0, 1, 0],\n",
              " [0, 1, 1, 1, 0, 1, 1, 0],\n",
              " [1, 1, 0, 0, 1, 1, 1, 0],\n",
              " [0, 0, 1, 1, 1, 1, 0, 0],\n",
              " [1, 1, 1, 0, 0, 0, 0, 1]]"
            ]
          },
          "metadata": {},
          "execution_count": 34
        }
      ],
      "source": [
        "mutation_pop = [mutation(i, muta_bit_amount) for i in crossover_pop]\n",
        "print(len(mutation_pop))\n",
        "mutation_pop[:10]"
      ]
    },
    {
      "source": [
        "<h2>Insert Mutation Table"
      ],
      "cell_type": "markdown",
      "metadata": {}
    },
    {
      "cell_type": "code",
      "execution_count": 35,
      "metadata": {},
      "outputs": [
        {
          "output_type": "stream",
          "name": "stdout",
          "text": [
            "256 was inserted.\n"
          ]
        }
      ],
      "source": [
        "#insert selection_pop to db\n",
        "insert_muta_sql = 'insert into mutation ('+columns+') values (%s, %s, %s, %s, %s, %s, %s, %s)'\n",
        "mycursor.executemany(insert_muta_sql, mutation_pop)\n",
        "try:\n",
        "    mydb.commit()\n",
        "    print(mycursor.rowcount, 'was inserted.')\n",
        "except:\n",
        "    mydb.rollback()\n",
        "    print('rollbacked')"
      ]
    },
    {
      "source": [
        "<h1>Evaluate the top Best 3/4 of Population"
      ],
      "cell_type": "markdown",
      "metadata": {}
    },
    {
      "cell_type": "code",
      "execution_count": 36,
      "metadata": {},
      "outputs": [
        {
          "output_type": "execute_result",
          "data": {
            "text/plain": [
              "[[1, 1, 0, 0, 1, 0, 1, 0],\n",
              " [1, 0, 0, 1, 0, 1, 0, 1],\n",
              " [0, 1, 1, 1, 1, 1, 0, 1],\n",
              " [0, 1, 1, 1, 1, 0, 0, 1],\n",
              " [1, 0, 1, 1, 0, 1, 0, 1],\n",
              " [1, 1, 1, 1, 0, 0, 1, 0],\n",
              " [0, 0, 1, 1, 0, 1, 1, 0],\n",
              " [1, 1, 0, 1, 1, 1, 1, 0],\n",
              " [0, 0, 1, 1, 1, 1, 0, 1],\n",
              " [1, 0, 1, 0, 0, 0, 0, 1]]"
            ]
          },
          "metadata": {},
          "execution_count": 36
        }
      ],
      "source": [
        "selection_crossover_mutation = selection_pop + crossover_pop + mutation_pop\n",
        "selection_crossover_mutation = list(set([str(i) for i in selection_crossover_mutation]))\n",
        "selection_crossover_mutation = [ast.literal_eval(i) for i in selection_crossover_mutation]\n",
        "selection_crossover_mutation[:10]"
      ]
    },
    {
      "cell_type": "code",
      "execution_count": 37,
      "metadata": {},
      "outputs": [
        {
          "output_type": "stream",
          "name": "stdout",
          "text": [
            "191\n"
          ]
        },
        {
          "output_type": "execute_result",
          "data": {
            "text/plain": [
              "[[0, 0, 1, 0, 0, 0, 0, 0],\n",
              " [0, 0, 1, 0, 0, 1, 0, 0],\n",
              " [0, 1, 1, 0, 0, 0, 0, 0],\n",
              " [0, 1, 1, 0, 0, 1, 0, 0],\n",
              " [0, 0, 0, 0, 0, 1, 0, 0],\n",
              " [0, 1, 0, 0, 0, 1, 0, 0],\n",
              " [0, 1, 0, 0, 0, 0, 0, 0],\n",
              " [0, 1, 1, 1, 0, 1, 0, 0],\n",
              " [0, 1, 1, 0, 0, 1, 1, 0],\n",
              " [1, 1, 1, 0, 0, 1, 0, 0],\n",
              " [0, 0, 1, 1, 0, 1, 0, 0],\n",
              " [0, 0, 1, 0, 0, 1, 1, 0],\n",
              " [0, 1, 1, 0, 0, 1, 0, 1],\n",
              " [1, 0, 1, 0, 0, 1, 0, 0],\n",
              " [0, 1, 1, 1, 0, 0, 0, 0],\n",
              " [0, 1, 1, 0, 0, 0, 1, 0],\n",
              " [1, 1, 1, 0, 0, 0, 0, 0],\n",
              " [0, 0, 1, 0, 0, 1, 0, 1],\n",
              " [0, 1, 0, 1, 0, 1, 0, 0],\n",
              " [0, 1, 1, 0, 0, 0, 0, 1],\n",
              " [0, 1, 0, 0, 0, 1, 1, 0],\n",
              " [0, 1, 1, 1, 0, 1, 1, 0],\n",
              " [0, 0, 1, 1, 0, 0, 0, 0],\n",
              " [1, 1, 1, 1, 0, 1, 0, 0],\n",
              " [1, 1, 0, 0, 0, 1, 0, 0],\n",
              " [1, 1, 1, 0, 0, 1, 1, 0],\n",
              " [0, 0, 1, 0, 0, 0, 1, 0],\n",
              " [0, 1, 1, 0, 1, 1, 0, 0],\n",
              " [0, 1, 1, 1, 0, 1, 0, 1],\n",
              " [1, 0, 1, 0, 0, 0, 0, 0],\n",
              " [0, 1, 1, 0, 0, 1, 1, 1],\n",
              " [1, 1, 1, 0, 0, 1, 0, 1],\n",
              " [0, 1, 0, 0, 0, 1, 0, 1],\n",
              " [0, 0, 1, 1, 0, 1, 1, 0],\n",
              " [1, 0, 1, 1, 0, 1, 0, 0],\n",
              " [1, 0, 1, 0, 0, 1, 1, 0],\n",
              " [0, 1, 1, 1, 0, 0, 1, 0],\n",
              " [1, 1, 1, 1, 0, 0, 0, 0],\n",
              " [1, 1, 1, 0, 0, 0, 1, 0],\n",
              " [1, 1, 1, 1, 0, 1, 1, 0],\n",
              " [0, 0, 0, 1, 0, 1, 0, 0],\n",
              " [0, 0, 1, 1, 0, 1, 0, 1],\n",
              " [0, 0, 1, 0, 0, 0, 0, 1],\n",
              " [0, 0, 1, 0, 0, 1, 1, 1],\n",
              " [0, 0, 1, 0, 1, 1, 0, 0],\n",
              " [0, 0, 0, 0, 0, 1, 1, 0],\n",
              " [1, 0, 1, 0, 0, 1, 0, 1],\n",
              " [0, 1, 1, 1, 0, 1, 1, 1],\n",
              " [0, 1, 1, 1, 0, 0, 0, 1],\n",
              " [0, 1, 1, 1, 1, 1, 0, 0],\n",
              " [1, 1, 1, 1, 0, 1, 0, 1],\n",
              " [0, 1, 0, 1, 0, 1, 1, 0],\n",
              " [0, 1, 1, 0, 1, 1, 1, 0],\n",
              " [0, 1, 1, 0, 0, 0, 1, 1],\n",
              " [1, 1, 1, 0, 0, 1, 1, 1],\n",
              " [1, 0, 0, 0, 0, 1, 0, 0],\n",
              " [1, 1, 0, 1, 0, 1, 0, 0],\n",
              " [1, 1, 1, 0, 1, 1, 0, 0],\n",
              " [1, 1, 1, 0, 0, 0, 0, 1],\n",
              " [0, 1, 1, 0, 1, 0, 0, 0],\n",
              " [0, 1, 0, 1, 0, 0, 0, 0],\n",
              " [1, 1, 0, 0, 0, 1, 1, 0],\n",
              " [0, 1, 0, 0, 0, 0, 1, 0],\n",
              " [0, 1, 1, 0, 1, 1, 0, 1],\n",
              " [1, 0, 1, 1, 0, 1, 1, 0],\n",
              " [0, 1, 0, 1, 0, 1, 0, 1],\n",
              " [1, 1, 0, 0, 0, 0, 0, 0],\n",
              " [0, 1, 0, 0, 0, 1, 1, 1],\n",
              " [1, 1, 1, 1, 0, 0, 1, 0],\n",
              " [1, 1, 0, 0, 0, 1, 0, 1],\n",
              " [1, 1, 1, 1, 0, 1, 1, 1],\n",
              " [0, 0, 1, 1, 0, 0, 1, 0],\n",
              " [0, 0, 1, 1, 0, 1, 1, 1],\n",
              " [0, 1, 1, 1, 1, 1, 1, 0],\n",
              " [0, 0, 0, 0, 0, 1, 0, 1],\n",
              " [1, 0, 1, 1, 0, 1, 0, 1],\n",
              " [1, 0, 1, 1, 0, 0, 0, 0],\n",
              " [1, 1, 1, 1, 1, 1, 0, 0],\n",
              " [0, 1, 0, 0, 1, 1, 0, 0],\n",
              " [1, 0, 1, 0, 0, 1, 1, 1],\n",
              " [1, 1, 1, 0, 1, 1, 1, 0],\n",
              " [0, 1, 1, 1, 0, 0, 1, 1],\n",
              " [1, 0, 1, 0, 0, 0, 1, 0],\n",
              " [0, 0, 1, 1, 1, 1, 0, 0],\n",
              " [1, 1, 1, 1, 0, 0, 0, 1],\n",
              " [1, 1, 0, 1, 0, 1, 1, 0],\n",
              " [1, 1, 1, 0, 0, 0, 1, 1],\n",
              " [0, 1, 1, 1, 1, 1, 0, 1],\n",
              " [0, 0, 1, 0, 1, 1, 1, 0],\n",
              " [0, 1, 1, 0, 1, 1, 1, 1],\n",
              " [1, 0, 1, 0, 1, 1, 0, 0],\n",
              " [1, 1, 1, 0, 1, 1, 0, 1],\n",
              " [0, 1, 1, 1, 1, 0, 0, 0],\n",
              " [0, 1, 0, 0, 0, 0, 0, 1],\n",
              " [0, 1, 1, 0, 1, 0, 1, 0],\n",
              " [0, 0, 1, 1, 0, 0, 0, 1],\n",
              " [0, 1, 0, 1, 0, 1, 1, 1],\n",
              " [1, 1, 1, 0, 1, 0, 0, 0],\n",
              " [1, 1, 1, 1, 1, 1, 1, 0],\n",
              " [0, 0, 0, 1, 0, 1, 1, 0],\n",
              " [1, 1, 0, 1, 0, 1, 0, 1],\n",
              " [0, 0, 1, 0, 0, 0, 1, 1],\n",
              " [1, 0, 1, 1, 0, 1, 1, 1],\n",
              " [1, 1, 0, 0, 0, 1, 1, 1],\n",
              " [1, 0, 0, 1, 0, 1, 0, 0],\n",
              " [0, 0, 1, 0, 1, 1, 0, 1],\n",
              " [1, 0, 1, 0, 0, 0, 0, 1],\n",
              " [0, 1, 1, 1, 1, 1, 1, 1],\n",
              " [1, 1, 1, 1, 0, 0, 1, 1],\n",
              " [1, 0, 0, 0, 0, 1, 1, 0],\n",
              " [1, 1, 1, 1, 1, 1, 0, 1],\n",
              " [0, 1, 0, 1, 0, 0, 1, 0],\n",
              " [1, 1, 1, 0, 1, 1, 1, 1],\n",
              " [0, 1, 0, 1, 1, 1, 0, 0],\n",
              " [0, 0, 1, 1, 1, 1, 1, 0],\n",
              " [0, 1, 1, 0, 1, 0, 0, 1],\n",
              " [1, 1, 0, 1, 0, 0, 0, 0],\n",
              " [1, 0, 1, 1, 0, 0, 1, 0],\n",
              " [1, 0, 1, 1, 1, 1, 0, 0],\n",
              " [0, 1, 0, 0, 1, 1, 1, 0],\n",
              " [1, 0, 1, 0, 1, 1, 1, 0],\n",
              " [1, 1, 0, 0, 1, 1, 0, 0],\n",
              " [0, 1, 1, 1, 1, 0, 1, 0],\n",
              " [1, 1, 0, 0, 0, 0, 1, 0],\n",
              " [1, 1, 0, 1, 0, 1, 1, 1],\n",
              " [1, 1, 1, 1, 1, 0, 0, 0],\n",
              " [0, 0, 0, 1, 0, 1, 0, 1],\n",
              " [1, 1, 1, 1, 1, 1, 1, 1],\n",
              " [1, 1, 1, 0, 1, 0, 1, 0],\n",
              " [0, 0, 1, 1, 1, 1, 0, 1],\n",
              " [0, 0, 0, 0, 0, 1, 1, 1],\n",
              " [0, 0, 1, 1, 0, 0, 1, 1],\n",
              " [0, 0, 1, 0, 1, 1, 1, 1],\n",
              " [1, 0, 0, 0, 0, 1, 0, 1],\n",
              " [1, 0, 1, 0, 1, 1, 0, 1],\n",
              " [1, 0, 1, 1, 0, 0, 0, 1],\n",
              " [0, 0, 1, 0, 1, 0, 0, 0],\n",
              " [0, 1, 0, 0, 1, 1, 0, 1],\n",
              " [0, 1, 1, 1, 1, 0, 0, 1],\n",
              " [0, 1, 0, 1, 0, 0, 0, 1],\n",
              " [1, 0, 1, 1, 1, 1, 1, 0],\n",
              " [1, 0, 0, 1, 0, 1, 1, 0],\n",
              " [0, 1, 0, 1, 1, 1, 1, 0],\n",
              " [1, 0, 1, 0, 0, 0, 1, 1],\n",
              " [0, 1, 1, 0, 1, 0, 1, 1],\n",
              " [1, 1, 0, 1, 1, 1, 0, 0],\n",
              " [1, 1, 1, 0, 1, 0, 0, 1],\n",
              " [0, 1, 0, 0, 0, 0, 1, 1],\n",
              " [1, 1, 1, 1, 1, 0, 1, 0],\n",
              " [1, 1, 0, 0, 1, 1, 1, 0],\n",
              " [1, 1, 0, 0, 0, 0, 0, 1],\n",
              " [1, 1, 0, 1, 0, 0, 1, 0],\n",
              " [0, 0, 1, 1, 1, 1, 1, 1],\n",
              " [1, 0, 1, 1, 1, 1, 0, 1],\n",
              " [1, 0, 1, 0, 1, 1, 1, 1],\n",
              " [0, 0, 0, 1, 0, 1, 1, 1],\n",
              " [0, 1, 1, 1, 1, 0, 1, 1],\n",
              " [0, 1, 0, 1, 1, 1, 0, 1],\n",
              " [1, 1, 1, 1, 1, 0, 0, 1],\n",
              " [1, 0, 1, 1, 0, 0, 1, 1],\n",
              " [1, 0, 0, 1, 0, 1, 0, 1],\n",
              " [0, 1, 0, 0, 1, 1, 1, 1],\n",
              " [1, 1, 0, 1, 1, 1, 1, 0],\n",
              " [1, 1, 1, 0, 1, 0, 1, 1],\n",
              " [1, 1, 0, 0, 1, 1, 0, 1],\n",
              " [1, 0, 0, 0, 0, 1, 1, 1],\n",
              " [1, 0, 1, 1, 1, 1, 1, 1],\n",
              " [0, 1, 0, 1, 0, 0, 1, 1],\n",
              " [0, 0, 1, 1, 1, 0, 0, 0],\n",
              " [1, 1, 0, 1, 0, 0, 0, 1],\n",
              " [1, 1, 1, 1, 1, 0, 1, 1],\n",
              " [0, 1, 0, 1, 1, 1, 1, 1],\n",
              " [0, 0, 1, 0, 1, 0, 1, 0],\n",
              " [1, 1, 0, 0, 0, 0, 1, 1],\n",
              " [1, 1, 0, 1, 1, 1, 0, 1],\n",
              " [1, 1, 0, 0, 1, 1, 1, 1],\n",
              " [1, 0, 0, 1, 0, 1, 1, 1],\n",
              " [1, 0, 1, 0, 1, 0, 0, 0],\n",
              " [0, 0, 0, 0, 1, 1, 0, 0],\n",
              " [1, 1, 0, 1, 1, 1, 1, 1],\n",
              " [1, 1, 0, 1, 0, 0, 1, 1],\n",
              " [0, 0, 1, 1, 1, 0, 1, 0],\n",
              " [1, 0, 1, 1, 1, 0, 0, 0],\n",
              " [1, 0, 1, 0, 1, 0, 1, 0],\n",
              " [0, 0, 0, 1, 1, 1, 0, 0],\n",
              " [0, 0, 1, 0, 1, 0, 0, 1],\n",
              " [0, 1, 0, 0, 1, 0, 0, 0],\n",
              " [1, 0, 1, 1, 1, 0, 1, 0],\n",
              " [0, 0, 0, 0, 1, 1, 1, 0],\n",
              " [0, 0, 1, 1, 1, 0, 0, 1],\n",
              " [1, 0, 0, 0, 1, 1, 0, 0]]"
            ]
          },
          "metadata": {},
          "execution_count": 37
        }
      ],
      "source": [
        "scm_dict = dict()\n",
        "for i in selection_crossover_mutation:\n",
        "    scm_dict[str(i)] = fitness_func(features=features, zeroOneList=i)\n",
        "#top 75% of all pop\n",
        "top_75_chromosome = [ast.literal_eval(i[0]) for i in sorted(scm_dict.items(), key=lambda x: x[1], reverse=True)[:round(0.75*(len(selection_crossover_mutation)))]]\n",
        "del scm_dict\n",
        "print(len(top_75_chromosome))\n",
        "top_75_chromosome"
      ]
    }
  ]
}